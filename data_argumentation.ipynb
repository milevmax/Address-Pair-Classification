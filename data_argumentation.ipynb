{
 "cells": [
  {
   "cell_type": "code",
   "execution_count": 1,
   "id": "initial_id",
   "metadata": {
    "collapsed": true,
    "ExecuteTime": {
     "end_time": "2024-02-06T06:19:39.196632249Z",
     "start_time": "2024-02-06T06:19:39.106232847Z"
    }
   },
   "outputs": [],
   "source": [
    "import numpy as np\n",
    "import re\n",
    "import random\n",
    "import itertools\n",
    "\n",
    "from templates import *"
   ]
  },
  {
   "cell_type": "code",
   "outputs": [],
   "source": [
    "test_adress = \"286000, Вінницька, Вінниця, вул.Фрунзе, 47, кв.12\""
   ],
   "metadata": {
    "collapsed": false,
    "ExecuteTime": {
     "end_time": "2024-02-06T06:19:43.835502844Z",
     "start_time": "2024-02-06T06:19:43.829549478Z"
    }
   },
   "id": "c035ad6b1a951fdf",
   "execution_count": 2
  },
  {
   "cell_type": "code",
   "outputs": [
    {
     "data": {
      "text/plain": "'286000, Вінницька, Вінниця, вул.Фрунзе111 47, кв.12'"
     },
     "execution_count": 3,
     "metadata": {},
     "output_type": "execute_result"
    }
   ],
   "source": [
    "def add_noise_to_address(address, noise):\n",
    "    \n",
    "    non_alpha_numeric_positions = [m.start() for m in re.finditer(r\"[^\\w]\", address)]\n",
    "    non_alpha_numeric_positions.append('endl')\n",
    "    \n",
    "    if non_alpha_numeric_positions:\n",
    "        random_position = random.choice(non_alpha_numeric_positions)\n",
    "        if random_position == 'endl':\n",
    "            modified_address = address + noise\n",
    "        else:    \n",
    "            modified_address = address[:random_position] + noise + address[random_position+1:]\n",
    "        return modified_address\n",
    "    else:\n",
    "        modified_address = address\n",
    "        return modified_address\n",
    "\n",
    "add_noise_to_address(test_adress, '111')"
   ],
   "metadata": {
    "collapsed": false,
    "ExecuteTime": {
     "end_time": "2024-02-06T06:19:44.165024030Z",
     "start_time": "2024-02-06T06:19:44.162065027Z"
    }
   },
   "id": "e904ac72276dcdfb",
   "execution_count": 3
  },
  {
   "cell_type": "code",
   "outputs": [],
   "source": [
    "def get_domains(address):\n",
    "    pattern = r\"\\{(.*?)\\}\"\n",
    "    matches = re.findall(pattern, address)\n",
    "    return matches"
   ],
   "metadata": {
    "collapsed": false,
    "ExecuteTime": {
     "end_time": "2024-02-06T06:19:44.675351753Z",
     "start_time": "2024-02-06T06:19:44.671930384Z"
    }
   },
   "id": "6f1b7e280cb14b66",
   "execution_count": 4
  },
  {
   "cell_type": "code",
   "outputs": [],
   "source": [
    "replaces = [\n",
    "    [\" м.\", \" місто \"],\n",
    "    [\",м.\", \",місто \"],\n",
    "    [' вул.', \" вулиця \", \" в.\"],\n",
    "    [',вул.', \",вулиця \", \",в.\"],\n",
    "    [' буд.', ' буд ', ' будинок '],\n",
    "    [',буд.', ',буд ', ',будинок '],\n",
    "    [\",кв.\", \",квартира \"],\n",
    "    [\" кв.\", \" квартира \"],\n",
    "    ['р-н', 'район'],\n",
    "    [\"бульвар \", \"бульв.\", \"б-р \"],\n",
    "    [\"пров.\", \"пров \", \"провулок \"],\n",
    "    [\"просп.\", \"проспект \"],\n",
    "    [\"площа \", \"пл.\"],\n",
    "    [\" село \", \" с.\", \" селище \"],\n",
    "    [\",село \", \",с.\", \",селище \"],\n",
    "    [\"обл.\", \"область \"],\n",
    "    [\"обл,\", \"область,\"],\n",
    "    [\"обл \", \"область \"]]"
   ],
   "metadata": {
    "collapsed": false,
    "ExecuteTime": {
     "end_time": "2024-02-06T06:19:45.327727892Z",
     "start_time": "2024-02-06T06:19:45.321932405Z"
    }
   },
   "id": "f8cebfb8b3ca4cf",
   "execution_count": 5
  },
  {
   "cell_type": "code",
   "outputs": [],
   "source": [
    "def find_replacement_match(address, replacement_set):\n",
    "    for replacement in replacement_set:\n",
    "        if replacement in address:\n",
    "            return replacement"
   ],
   "metadata": {
    "collapsed": false,
    "ExecuteTime": {
     "end_time": "2024-02-06T06:19:48.926055530Z",
     "start_time": "2024-02-06T06:19:48.921088380Z"
    }
   },
   "id": "f83cf20f15886fcd",
   "execution_count": 6
  },
  {
   "cell_type": "code",
   "outputs": [],
   "source": [
    "new_templates = address_templates.copy()\n",
    "\n",
    "for replacement_set in replaces:\n",
    "    current_count = len(new_templates)\n",
    "    for ind, template in enumerate(new_templates):\n",
    "        if ind == current_count:\n",
    "            new_templates = list(set(new_templates))\n",
    "            break\n",
    "        replacement_token = find_replacement_match(template, replacement_set)\n",
    "        if replacement_token:\n",
    "            for domain_token in replacement_set:\n",
    "                new_templates.append(template.replace(replacement_token, domain_token))\n"
   ],
   "metadata": {
    "collapsed": false,
    "ExecuteTime": {
     "end_time": "2024-02-06T06:19:53.455646382Z",
     "start_time": "2024-02-06T06:19:53.445384936Z"
    }
   },
   "id": "d3c4077a711cc083",
   "execution_count": 7
  },
  {
   "cell_type": "code",
   "outputs": [
    {
     "data": {
      "text/plain": "4668"
     },
     "execution_count": 9,
     "metadata": {},
     "output_type": "execute_result"
    }
   ],
   "source": [
    "len(new_templates)"
   ],
   "metadata": {
    "collapsed": false,
    "ExecuteTime": {
     "end_time": "2024-02-06T06:19:59.070452689Z",
     "start_time": "2024-02-06T06:19:59.065836457Z"
    }
   },
   "id": "99b8effa7eae18cd",
   "execution_count": 9
  },
  {
   "cell_type": "markdown",
   "source": [
    "## Generate True samples"
   ],
   "metadata": {
    "collapsed": false
   },
   "id": "63656c57db90dcc2"
  },
  {
   "cell_type": "code",
   "outputs": [
    {
     "data": {
      "text/plain": "21790224"
     },
     "execution_count": 10,
     "metadata": {},
     "output_type": "execute_result"
    }
   ],
   "source": [
    "len(new_templates) * len(new_templates)"
   ],
   "metadata": {
    "collapsed": false,
    "ExecuteTime": {
     "end_time": "2024-02-06T06:20:03.810642736Z",
     "start_time": "2024-02-06T06:20:03.807544075Z"
    }
   },
   "id": "69e560ca2011483e",
   "execution_count": 10
  },
  {
   "cell_type": "code",
   "outputs": [],
   "source": [
    "# get available for True templates\n",
    "available_diff = {'index', 'region', 'district'}\n",
    "addresses_pairs = list(itertools.product(new_templates, new_templates))\n",
    "\n",
    "true_addresses_pairs = []\n",
    "for template_1, template_2 in addresses_pairs:\n",
    "    if not set(get_domains(template_1)).symmetric_difference(set(get_domains(template_2))) - available_diff:\n",
    "        true_addresses_pairs.append((template_1, template_2))\n"
   ],
   "metadata": {
    "collapsed": false,
    "ExecuteTime": {
     "end_time": "2024-02-06T06:21:50.229339780Z",
     "start_time": "2024-02-06T06:20:33.833821926Z"
    }
   },
   "id": "6a8887758fb9eef1",
   "execution_count": 11
  },
  {
   "cell_type": "code",
   "outputs": [
    {
     "data": {
      "text/plain": "21790224"
     },
     "execution_count": 12,
     "metadata": {},
     "output_type": "execute_result"
    }
   ],
   "source": [
    "len(addresses_pairs)"
   ],
   "metadata": {
    "collapsed": false,
    "ExecuteTime": {
     "end_time": "2024-02-06T06:45:43.710757497Z",
     "start_time": "2024-02-06T06:45:43.667374986Z"
    }
   },
   "id": "cc5d923e759a9a27",
   "execution_count": 12
  },
  {
   "cell_type": "code",
   "outputs": [
    {
     "data": {
      "text/plain": "3897576"
     },
     "execution_count": 13,
     "metadata": {},
     "output_type": "execute_result"
    }
   ],
   "source": [
    "len(true_addresses_pairs)"
   ],
   "metadata": {
    "collapsed": false,
    "ExecuteTime": {
     "end_time": "2024-02-06T06:45:46.389429306Z",
     "start_time": "2024-02-06T06:45:46.386866792Z"
    }
   },
   "id": "4c7790edbff8cca1",
   "execution_count": 13
  },
  {
   "cell_type": "code",
   "outputs": [],
   "source": [
    "doms = set()\n",
    "for t in new_templates:\n",
    "    dom = get_domains(t)\n",
    "    for d in dom:\n",
    "        doms.add(d)"
   ],
   "metadata": {
    "collapsed": false,
    "ExecuteTime": {
     "end_time": "2024-02-06T06:45:54.182606822Z",
     "start_time": "2024-02-06T06:45:54.179846775Z"
    }
   },
   "id": "fadc7b2d34db4467",
   "execution_count": 14
  },
  {
   "cell_type": "code",
   "outputs": [
    {
     "data": {
      "text/plain": "{'avenue',\n 'city',\n 'district',\n 'flat_num',\n 'house_num',\n 'index',\n 'lane',\n 'region',\n 'street',\n 'village'}"
     },
     "execution_count": 17,
     "metadata": {},
     "output_type": "execute_result"
    }
   ],
   "source": [
    "doms"
   ],
   "metadata": {
    "collapsed": false,
    "ExecuteTime": {
     "end_time": "2024-02-06T06:46:13.155819602Z",
     "start_time": "2024-02-06T06:46:13.150466050Z"
    }
   },
   "id": "e1f34963c6da0e74",
   "execution_count": 17
  },
  {
   "cell_type": "code",
   "outputs": [],
   "source": [
    "def generate_template_dict(real=True, house_tail_proba=0):\n",
    "    \n",
    "    if real == 'mix':\n",
    "        tamplate_dict_real = {\n",
    "            'avenue': np.random.choice(avenues),\n",
    "            'city': np.random.choice(cities),\n",
    "            'region': np.random.choice(regions),\n",
    "            'district': np.random.choice(districts),\n",
    "            'village': np.random.choice(villages),\n",
    "            'street': np.random.choice(streets),\n",
    "            'lane': np.random.choice(lanes),\n",
    "            'house_num': str(np.random.randint(1, 120)),\n",
    "            'flat_num': np.random.randint(1, 120),\n",
    "            'index': ''.join(str(np.random.randint(0, 10)) for _ in range(5))\n",
    "        }\n",
    "\n",
    "        tamplate_dict_random = {\n",
    "            'avenue': ''.join(random.choices(ukrainian_alphabet + ' ', k=random.randint(4, 14))),\n",
    "            'city': ''.join(random.choices(ukrainian_alphabet + ' ', k=random.randint(4, 14))),\n",
    "            'region': ''.join(random.choices(ukrainian_alphabet + ' ', k=random.randint(4, 14))),\n",
    "            'district': ''.join(random.choices(ukrainian_alphabet + ' ', k=random.randint(4, 14))),\n",
    "            'village': ''.join(random.choices(ukrainian_alphabet + ' ', k=random.randint(4, 14))),\n",
    "            'street': ''.join(random.choices(ukrainian_alphabet + ' ', k=random.randint(4, 14))),\n",
    "            'lane': ''.join(random.choices(ukrainian_alphabet + ' ', k=random.randint(4, 14))),\n",
    "            'house_num': str(np.random.randint(1, 120)),\n",
    "            'flat_num': np.random.randint(1, 120),\n",
    "            'index': ''.join(str(np.random.randint(0, 10)) for _ in range(5))\n",
    "        }\n",
    "\n",
    "        tamplate_dict = {key: random.choice([tamplate_dict_real[key], tamplate_dict_random[key]]) for key in tamplate_dict_real.keys()}\n",
    "        \n",
    "    elif real:\n",
    "        tamplate_dict = {\n",
    "            'avenue': np.random.choice(avenues),\n",
    "            'city': np.random.choice(cities),\n",
    "            'region': np.random.choice(regions),\n",
    "            'district': np.random.choice(districts),\n",
    "            'village': np.random.choice(villages),\n",
    "            'street': np.random.choice(streets),\n",
    "            'lane': np.random.choice(lanes),\n",
    "            'house_num': str(np.random.randint(1, 120)),\n",
    "            'flat_num': np.random.randint(1, 120),\n",
    "            'index': ''.join(str(np.random.randint(0, 10)) for _ in range(5))\n",
    "        }\n",
    "    \n",
    "    else:\n",
    "        tamplate_dict = {\n",
    "            'avenue': ''.join(random.choices(ukrainian_alphabet + ' ', k=random.randint(4, 14))),\n",
    "            'city': ''.join(random.choices(ukrainian_alphabet + ' ', k=random.randint(4, 14))),\n",
    "            'region': ''.join(random.choices(ukrainian_alphabet + ' ', k=random.randint(4, 14))),\n",
    "            'district': ''.join(random.choices(ukrainian_alphabet + ' ', k=random.randint(4, 14))),\n",
    "            'village': ''.join(random.choices(ukrainian_alphabet + ' ', k=random.randint(4, 14))),\n",
    "            'street': ''.join(random.choices(ukrainian_alphabet + ' ', k=random.randint(4, 14))),\n",
    "            'lane': ''.join(random.choices(ukrainian_alphabet + ' ', k=random.randint(4, 14))),\n",
    "            'house_num': str(np.random.randint(1, 120)),\n",
    "            'flat_num': np.random.randint(1, 120),\n",
    "            'index': ''.join(str(np.random.randint(0, 10)) for _ in range(5))\n",
    "        }\n",
    "    \n",
    "    if house_tail_proba > 0 and np.random.rand() < house_tail_proba:\n",
    "        tamplate_dict['house_num'] += random.choice(['-а', '-б', '-в', '-г'] + ['к' + str(n) for n in range(1, 8)] + ['/' + str(n) for n in range(1, 8)])\n",
    "    \n",
    "    return tamplate_dict\n",
    "        \n",
    "\n",
    "def generate_address(address_template, template_dict):\n",
    "    address = address_template.format(**template_dict)\n",
    "    return address\n",
    "    \n",
    "    \n",
    "def add_noise(address, proba):\n",
    "    if np.random.rand() < proba:\n",
    "        noise = random.choice(noises)\n",
    "        address = add_noise_to_address(address, noise.format(noise=random.choice([' ', ' ', ',' ,'а', '-', 'к', '1', '2', '3'])))\n",
    "    return address\n",
    "\n",
    "def generate_address_pair(true_addresses_pairs, all_addresses_pairs, label=True, noise_proba=0.05):\n",
    "    if label:\n",
    "        address_template_1, address_template_2 = random.choice(true_addresses_pairs)\n",
    "        template_dict = generate_template_dict(real='mix', house_tail_proba=0.02)\n",
    "        \n",
    "        address_1 = generate_address(address_template_1, template_dict)\n",
    "        address_1 = add_noise(address_1, noise_proba)\n",
    "        \n",
    "        address_2 = generate_address(address_template_2, template_dict)\n",
    "        address_2 = add_noise(address_2, noise_proba)\n",
    "        \n",
    "        return address_1, address_2, label\n",
    "    \n",
    "    else:\n",
    "        address_template_1, address_template_2 = random.choice(all_addresses_pairs)\n",
    "        template_dict_1 = generate_template_dict(real='mix', house_tail_proba=0.02)\n",
    "        template_dict_2 = generate_template_dict(real='mix', house_tail_proba=0.02)\n",
    "\n",
    "        address_1 = generate_address(address_template_1, template_dict_1)\n",
    "        address_1 = add_noise(address_1, noise_proba)\n",
    "\n",
    "        address_2 = generate_address(address_template_2, template_dict_2)\n",
    "        address_2 = add_noise(address_2, noise_proba)\n",
    "\n",
    "        return address_1, address_2, label\n",
    "        "
   ],
   "metadata": {
    "collapsed": false,
    "ExecuteTime": {
     "end_time": "2024-02-06T06:48:36.506594715Z",
     "start_time": "2024-02-06T06:48:36.463897516Z"
    }
   },
   "id": "a31f7aaa8eb7d85d",
   "execution_count": 48
  },
  {
   "cell_type": "code",
   "outputs": [
    {
     "data": {
      "text/plain": "('запорізька область , острог, вулиця ящґвяше, буд  112, квартира 119',\n '79433, запорізька область , острог, пров.ящґвяше, буд  112, кв.119',\n True)"
     },
     "execution_count": 47,
     "metadata": {},
     "output_type": "execute_result"
    }
   ],
   "source": [
    "generate_address_pair(true_addresses_pairs, addresses_pairs)"
   ],
   "metadata": {
    "collapsed": false,
    "ExecuteTime": {
     "end_time": "2024-02-06T06:47:09.302615473Z",
     "start_time": "2024-02-06T06:47:09.260857439Z"
    }
   },
   "id": "e24d8863fbf5018",
   "execution_count": 47
  },
  {
   "cell_type": "code",
   "outputs": [
    {
     "data": {
      "text/plain": "('26963, вінницька обл., місто коростень, провулок жфютю`о, буд. 18  .  квартира  30',\n '15292, сумська область , місто краматорськ, пров ь ивіичебкґге, буд. 92, кв. 89',\n False)"
     },
     "execution_count": 21,
     "metadata": {},
     "output_type": "execute_result"
    }
   ],
   "source": [
    "generate_address_pair(true_addresses_pairs, addresses_pairs, label=False)"
   ],
   "metadata": {
    "collapsed": false,
    "ExecuteTime": {
     "end_time": "2024-02-06T06:46:18.865266648Z",
     "start_time": "2024-02-06T06:46:18.862075526Z"
    }
   },
   "id": "bdf328c29864d374",
   "execution_count": 21
  }
 ],
 "metadata": {
  "kernelspec": {
   "display_name": "Python 3",
   "language": "python",
   "name": "python3"
  },
  "language_info": {
   "codemirror_mode": {
    "name": "ipython",
    "version": 2
   },
   "file_extension": ".py",
   "mimetype": "text/x-python",
   "name": "python",
   "nbconvert_exporter": "python",
   "pygments_lexer": "ipython2",
   "version": "2.7.6"
  }
 },
 "nbformat": 4,
 "nbformat_minor": 5
}
