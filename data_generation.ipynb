{
 "cells": [
  {
   "cell_type": "code",
   "execution_count": 94,
   "id": "initial_id",
   "metadata": {
    "collapsed": true,
    "ExecuteTime": {
     "end_time": "2024-02-06T22:30:49.162984100Z",
     "start_time": "2024-02-06T22:30:49.105231246Z"
    }
   },
   "outputs": [],
   "source": [
    "import numpy as np\n",
    "\n",
    "from data_augmentation import generate_address_pair\n",
    "from templates import allowed_chars"
   ]
  },
  {
   "cell_type": "code",
   "outputs": [],
   "source": [
    "from tensorflow.keras.preprocessing.sequence import pad_sequences\n",
    "from tensorflow.keras.layers import Input, Embedding, Bidirectional, LSTM, Dense, Concatenate, Dropout\n",
    "from tensorflow.keras.models import Model\n",
    "import tensorflow as tf"
   ],
   "metadata": {
    "collapsed": false,
    "ExecuteTime": {
     "end_time": "2024-02-06T22:30:49.163588576Z",
     "start_time": "2024-02-06T22:30:49.124559889Z"
    }
   },
   "id": "3fbc65c068ea6462",
   "execution_count": 95
  },
  {
   "cell_type": "code",
   "outputs": [
    {
     "data": {
      "text/plain": "('кжчюалзм область , вафюяусщ, вул.лшфшшж, будинок  96, кв. 115 , ',\n '35154, херсонська область , ґлу`ощґюб район, с.щтчцп , в.гплака, буд. 77, квартира  33',\n False)"
     },
     "execution_count": 96,
     "metadata": {},
     "output_type": "execute_result"
    }
   ],
   "source": [
    "generate_address_pair()"
   ],
   "metadata": {
    "collapsed": false,
    "ExecuteTime": {
     "end_time": "2024-02-06T22:30:49.248667807Z",
     "start_time": "2024-02-06T22:30:49.163533978Z"
    }
   },
   "id": "c5c17837009b316b",
   "execution_count": 96
  },
  {
   "cell_type": "code",
   "outputs": [],
   "source": [
    "MAX_LEN = 120\n",
    "BATCH_SIZE = 32\n",
    "\n",
    "char_to_index = {char: idx + 1 for idx, char in enumerate(allowed_chars)}\n",
    "index_to_char = {idx: char for char, idx in char_to_index.items()}"
   ],
   "metadata": {
    "collapsed": false,
    "ExecuteTime": {
     "end_time": "2024-02-06T22:31:58.134046891Z",
     "start_time": "2024-02-06T22:31:58.126938618Z"
    }
   },
   "id": "4e2011daa4889d0b",
   "execution_count": 106
  },
  {
   "cell_type": "code",
   "outputs": [],
   "source": [
    "def tokenize_address(address):\n",
    "    return [char_to_index[char] for char in address if char in char_to_index]\n",
    "\n",
    "def generate_address_batch(batch_size):\n",
    "    \n",
    "    X_1 = []\n",
    "    X_2 = []\n",
    "    y = []\n",
    "    for _ in range(batch_size):\n",
    "        address_1, address_2, label = generate_address_pair()\n",
    "        tokenized_adress_1 = tokenize_address(address_1)\n",
    "        tokenized_adress_2 = tokenize_address(address_2)\n",
    "        X_1.append(tokenized_adress_1)\n",
    "        X_2.append(tokenized_adress_2)\n",
    "        y.append(int(label))\n",
    "    \n",
    "    adress_1_padded = pad_sequences(X_1, maxlen=MAX_LEN)\n",
    "    adress_2_padded = pad_sequences(X_2, maxlen=MAX_LEN)\n",
    "    \n",
    "    return (adress_1_padded, adress_2_padded), y\n",
    "\n",
    "\n",
    "def data_generator():\n",
    "    for _ in range(2**19):\n",
    "        yield generate_address_batch(BATCH_SIZE)\n"
   ],
   "metadata": {
    "collapsed": false,
    "ExecuteTime": {
     "end_time": "2024-02-06T22:32:02.031980834Z",
     "start_time": "2024-02-06T22:32:02.025885833Z"
    }
   },
   "id": "ebfdf6bc2026f89f",
   "execution_count": 107
  },
  {
   "cell_type": "code",
   "outputs": [],
   "source": [
    "test_data = generate_address_batch(2**14)"
   ],
   "metadata": {
    "collapsed": false,
    "ExecuteTime": {
     "end_time": "2024-02-06T22:42:53.956069085Z",
     "start_time": "2024-02-06T22:42:49.516678693Z"
    }
   },
   "id": "dd25239b4375fb49",
   "execution_count": 116
  },
  {
   "cell_type": "code",
   "outputs": [
    {
     "data": {
      "text/plain": "(array([[ 0,  0,  0, ..., 35, 42, 46],\n        [ 0,  0,  0, ..., 35, 42, 43],\n        [ 0,  0,  0, ..., 19,  3,  1],\n        ...,\n        [ 0,  0,  0, ..., 35, 48, 47],\n        [ 0,  0,  0, ..., 35, 44, 44],\n        [ 0,  0,  0, ..., 35, 49, 43]], dtype=int32),\n array([[ 0,  0,  0, ..., 35, 42, 46],\n        [ 0,  0,  0, ..., 35, 42, 43],\n        [ 0,  0,  0, ..., 35, 45, 47],\n        ...,\n        [ 0,  0,  0, ..., 36, 48, 47],\n        [ 0,  0,  0, ..., 31, 15,  1],\n        [ 0,  0,  0, ..., 35, 49, 43]], dtype=int32))"
     },
     "execution_count": 118,
     "metadata": {},
     "output_type": "execute_result"
    }
   ],
   "source": [
    "test_data[0]"
   ],
   "metadata": {
    "collapsed": false,
    "ExecuteTime": {
     "end_time": "2024-02-06T22:43:09.259891945Z",
     "start_time": "2024-02-06T22:43:09.254328624Z"
    }
   },
   "id": "41cff223d2fc0bd3",
   "execution_count": 118
  },
  {
   "cell_type": "code",
   "outputs": [],
   "source": [
    "\""
   ],
   "metadata": {
    "collapsed": false
   },
   "id": "f0d254fc4f8792ee"
  }
 ],
 "metadata": {
  "kernelspec": {
   "display_name": "Python 3",
   "language": "python",
   "name": "python3"
  },
  "language_info": {
   "codemirror_mode": {
    "name": "ipython",
    "version": 2
   },
   "file_extension": ".py",
   "mimetype": "text/x-python",
   "name": "python",
   "nbconvert_exporter": "python",
   "pygments_lexer": "ipython2",
   "version": "2.7.6"
  }
 },
 "nbformat": 4,
 "nbformat_minor": 5
}
