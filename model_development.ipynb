{
 "cells": [
  {
   "cell_type": "code",
   "execution_count": 1,
   "id": "initial_id",
   "metadata": {
    "collapsed": true,
    "ExecuteTime": {
     "end_time": "2024-02-25T20:49:32.520191Z",
     "start_time": "2024-02-25T20:48:19.097728Z"
    }
   },
   "outputs": [
    {
     "name": "stderr",
     "output_type": "stream",
     "text": [
      "2024-02-25 13:48:19.776978: I tensorflow/core/util/port.cc:113] oneDNN custom operations are on. You may see slightly different numerical results due to floating-point round-off errors from different computation orders. To turn them off, set the environment variable `TF_ENABLE_ONEDNN_OPTS=0`.\n",
      "2024-02-25 13:48:20.039416: E external/local_xla/xla/stream_executor/cuda/cuda_dnn.cc:9261] Unable to register cuDNN factory: Attempting to register factory for plugin cuDNN when one has already been registered\n",
      "2024-02-25 13:48:20.039511: E external/local_xla/xla/stream_executor/cuda/cuda_fft.cc:607] Unable to register cuFFT factory: Attempting to register factory for plugin cuFFT when one has already been registered\n",
      "2024-02-25 13:48:20.077803: E external/local_xla/xla/stream_executor/cuda/cuda_blas.cc:1515] Unable to register cuBLAS factory: Attempting to register factory for plugin cuBLAS when one has already been registered\n",
      "2024-02-25 13:48:20.164711: I tensorflow/core/platform/cpu_feature_guard.cc:182] This TensorFlow binary is optimized to use available CPU instructions in performance-critical operations.\n",
      "To enable the following instructions: AVX2 AVX_VNNI FMA, in other operations, rebuild TensorFlow with the appropriate compiler flags.\n",
      "2024-02-25 13:48:20.922979: W tensorflow/compiler/tf2tensorrt/utils/py_utils.cc:38] TF-TRT Warning: Could not find TensorRT\n"
     ]
    }
   ],
   "source": [
    "import pandas as pd\n",
    "import numpy as np\n",
    "\n",
    "from tensorflow.keras.preprocessing.sequence import pad_sequences\n",
    "from tensorflow.keras.layers import Input, Embedding, Bidirectional, LSTM, Dense, Concatenate, Dropout\n",
    "from tensorflow.keras.models import Model\n",
    "import tensorflow as tf\n",
    "\n",
    "from data_augmentation import TEST_DATA, VALID_DATA, BATCH_SIZE, MAX_LEN, data_generator\n",
    "from templates import allowed_chars"
   ]
  },
  {
   "cell_type": "code",
   "outputs": [
    {
     "name": "stderr",
     "output_type": "stream",
     "text": [
      "2024-02-25 13:51:36.381892: I external/local_xla/xla/stream_executor/cuda/cuda_executor.cc:901] successful NUMA node read from SysFS had negative value (-1), but there must be at least one NUMA node, so returning NUMA node zero. See more at https://github.com/torvalds/linux/blob/v6.0/Documentation/ABI/testing/sysfs-bus-pci#L344-L355\n",
      "2024-02-25 13:51:36.520507: I external/local_xla/xla/stream_executor/cuda/cuda_executor.cc:901] successful NUMA node read from SysFS had negative value (-1), but there must be at least one NUMA node, so returning NUMA node zero. See more at https://github.com/torvalds/linux/blob/v6.0/Documentation/ABI/testing/sysfs-bus-pci#L344-L355\n",
      "2024-02-25 13:51:36.520820: I external/local_xla/xla/stream_executor/cuda/cuda_executor.cc:901] successful NUMA node read from SysFS had negative value (-1), but there must be at least one NUMA node, so returning NUMA node zero. See more at https://github.com/torvalds/linux/blob/v6.0/Documentation/ABI/testing/sysfs-bus-pci#L344-L355\n",
      "2024-02-25 13:51:36.524898: I external/local_xla/xla/stream_executor/cuda/cuda_executor.cc:901] successful NUMA node read from SysFS had negative value (-1), but there must be at least one NUMA node, so returning NUMA node zero. See more at https://github.com/torvalds/linux/blob/v6.0/Documentation/ABI/testing/sysfs-bus-pci#L344-L355\n",
      "2024-02-25 13:51:36.525242: I external/local_xla/xla/stream_executor/cuda/cuda_executor.cc:901] successful NUMA node read from SysFS had negative value (-1), but there must be at least one NUMA node, so returning NUMA node zero. See more at https://github.com/torvalds/linux/blob/v6.0/Documentation/ABI/testing/sysfs-bus-pci#L344-L355\n",
      "2024-02-25 13:51:36.525513: I external/local_xla/xla/stream_executor/cuda/cuda_executor.cc:901] successful NUMA node read from SysFS had negative value (-1), but there must be at least one NUMA node, so returning NUMA node zero. See more at https://github.com/torvalds/linux/blob/v6.0/Documentation/ABI/testing/sysfs-bus-pci#L344-L355\n",
      "2024-02-25 13:51:36.578509: I external/local_xla/xla/stream_executor/cuda/cuda_executor.cc:901] successful NUMA node read from SysFS had negative value (-1), but there must be at least one NUMA node, so returning NUMA node zero. See more at https://github.com/torvalds/linux/blob/v6.0/Documentation/ABI/testing/sysfs-bus-pci#L344-L355\n",
      "2024-02-25 13:51:36.578624: I external/local_xla/xla/stream_executor/cuda/cuda_executor.cc:901] successful NUMA node read from SysFS had negative value (-1), but there must be at least one NUMA node, so returning NUMA node zero. See more at https://github.com/torvalds/linux/blob/v6.0/Documentation/ABI/testing/sysfs-bus-pci#L344-L355\n",
      "2024-02-25 13:51:36.578689: I external/local_xla/xla/stream_executor/cuda/cuda_executor.cc:901] successful NUMA node read from SysFS had negative value (-1), but there must be at least one NUMA node, so returning NUMA node zero. See more at https://github.com/torvalds/linux/blob/v6.0/Documentation/ABI/testing/sysfs-bus-pci#L344-L355\n",
      "2024-02-25 13:51:36.578742: I tensorflow/core/common_runtime/gpu/gpu_device.cc:1929] Created device /job:localhost/replica:0/task:0/device:GPU:0 with 2284 MB memory:  -> device: 0, name: NVIDIA GeForce RTX 3050 Laptop GPU, pci bus id: 0000:01:00.0, compute capability: 8.6\n"
     ]
    }
   ],
   "source": [
    "output_signature = (\n",
    "    (tf.TensorSpec(shape=(BATCH_SIZE, MAX_LEN), dtype=tf.float32),\n",
    "     tf.TensorSpec(shape=(BATCH_SIZE, MAX_LEN), dtype=tf.float32)),\n",
    "    tf.TensorSpec(shape=(BATCH_SIZE,), dtype=tf.int32)\n",
    ")\n",
    "\n",
    "address_dataset = tf.data.Dataset.from_generator(data_generator,\n",
    "                                                 output_signature=output_signature)"
   ],
   "metadata": {
    "collapsed": false,
    "ExecuteTime": {
     "end_time": "2024-02-25T20:51:36.629247Z",
     "start_time": "2024-02-25T20:51:35.140944Z"
    }
   },
   "id": "1945fd4023f3d904",
   "execution_count": 2
  },
  {
   "cell_type": "code",
   "outputs": [
    {
     "name": "stdout",
     "output_type": "stream",
     "text": [
      "Model: \"model_1\"\n",
      "__________________________________________________________________________________________________\n",
      " Layer (type)                Output Shape                 Param #   Connected to                  \n",
      "==================================================================================================\n",
      " input_3 (InputLayer)        [(None, 120)]                0         []                            \n",
      "                                                                                                  \n",
      " input_4 (InputLayer)        [(None, 120)]                0         []                            \n",
      "                                                                                                  \n",
      " embedding_1 (Embedding)     (None, 120, 5)               250       ['input_3[0][0]',             \n",
      "                                                                     'input_4[0][0]']             \n",
      "                                                                                                  \n",
      " bidirectional_1 (Bidirecti  (None, 256)                  137216    ['embedding_1[0][0]',         \n",
      " onal)                                                               'embedding_1[1][0]']         \n",
      "                                                                                                  \n",
      " concatenate_1 (Concatenate  (None, 512)                  0         ['bidirectional_1[0][0]',     \n",
      " )                                                                   'bidirectional_1[1][0]']     \n",
      "                                                                                                  \n",
      " dense_3 (Dense)             (None, 64)                   32832     ['concatenate_1[0][0]']       \n",
      "                                                                                                  \n",
      " dropout_2 (Dropout)         (None, 64)                   0         ['dense_3[0][0]']             \n",
      "                                                                                                  \n",
      " dense_4 (Dense)             (None, 32)                   2080      ['dropout_2[0][0]']           \n",
      "                                                                                                  \n",
      " dropout_3 (Dropout)         (None, 32)                   0         ['dense_4[0][0]']             \n",
      "                                                                                                  \n",
      " dense_5 (Dense)             (None, 1)                    33        ['dropout_3[0][0]']           \n",
      "                                                                                                  \n",
      "==================================================================================================\n",
      "Total params: 172411 (673.48 KB)\n",
      "Trainable params: 172411 (673.48 KB)\n",
      "Non-trainable params: 0 (0.00 Byte)\n",
      "__________________________________________________________________________________________________\n"
     ]
    }
   ],
   "source": [
    "vocab_size = len(allowed_chars) + 1  # +1 for padding token\n",
    "embedding_dim = 5\n",
    "\n",
    "embedding_layer = Embedding(vocab_size, embedding_dim, input_length=MAX_LEN)\n",
    "bilstm_layer = Bidirectional(LSTM(128, dropout=0.05, recurrent_dropout=0.05))\n",
    "\n",
    "# Define two input layers\n",
    "input_a = Input(shape=(MAX_LEN,))\n",
    "input_b = Input(shape=(MAX_LEN,))\n",
    "\n",
    "# Shared embedding layer\n",
    "embedded_a = embedding_layer(input_a)\n",
    "embedded_b = embedding_layer(input_b)\n",
    "\n",
    "# Shared BiLSTM layer\n",
    "processed_a = bilstm_layer(embedded_a)\n",
    "processed_b = bilstm_layer(embedded_b)\n",
    "\n",
    "# Concatenation of the two outputs\n",
    "concatenated = Concatenate()([processed_a, processed_b])\n",
    "\n",
    "# Fully connected layers\n",
    "fc_layer_1 = Dense(64, activation='relu')(concatenated)\n",
    "fc_layer_1 = Dropout(0.5)(fc_layer_1)\n",
    "fc_layer_2 = Dense(32, activation='relu')(fc_layer_1)\n",
    "fc_layer_2 = Dropout(0.1)(fc_layer_2)\n",
    "output_layer = Dense(1, activation='sigmoid')(fc_layer_2)\n",
    "\n",
    "# Building the model\n",
    "model = Model(inputs=[input_a, input_b], outputs=output_layer)\n",
    "\n",
    "# Compile the model\n",
    "model.compile(optimizer='adam', loss='binary_crossentropy', metrics=['accuracy'])\n",
    "\n",
    "model.summary()"
   ],
   "metadata": {
    "collapsed": false,
    "ExecuteTime": {
     "end_time": "2024-02-07T01:01:14.553001479Z",
     "start_time": "2024-02-07T01:01:13.555727742Z"
    }
   },
   "id": "aa6b9bb38af3e090",
   "execution_count": 5
  },
  {
   "cell_type": "code",
   "outputs": [
    {
     "name": "stdout",
     "output_type": "stream",
     "text": [
      "Epoch 1/50\n",
      "2047/2048 [============================>.] - ETA: 0s - loss: 0.4600 - accuracy: 0.7669\n",
      "Epoch 1: val_accuracy improved from -inf to 0.93903, saving model to model_checkpoints/my_model_weights_best.keras\n",
      "2048/2048 [==============================] - 38s 17ms/step - loss: 0.4599 - accuracy: 0.7670 - val_loss: 0.1850 - val_accuracy: 0.9390\n",
      "Epoch 2/50\n",
      "2048/2048 [==============================] - ETA: 0s - loss: 0.1355 - accuracy: 0.9539\n",
      "Epoch 2: val_accuracy improved from 0.93903 to 0.97241, saving model to model_checkpoints/my_model_weights_best.keras\n",
      "2048/2048 [==============================] - 35s 17ms/step - loss: 0.1355 - accuracy: 0.9539 - val_loss: 0.0770 - val_accuracy: 0.9724\n",
      "Epoch 3/50\n",
      "2048/2048 [==============================] - ETA: 0s - loss: 0.0905 - accuracy: 0.9690\n",
      "Epoch 3: val_accuracy improved from 0.97241 to 0.97925, saving model to model_checkpoints/my_model_weights_best.keras\n",
      "2048/2048 [==============================] - 35s 17ms/step - loss: 0.0905 - accuracy: 0.9690 - val_loss: 0.0648 - val_accuracy: 0.9792\n",
      "Epoch 4/50\n",
      "2046/2048 [============================>.] - ETA: 0s - loss: 0.0830 - accuracy: 0.9715\n",
      "Epoch 4: val_accuracy improved from 0.97925 to 0.97961, saving model to model_checkpoints/my_model_weights_best.keras\n",
      "2048/2048 [==============================] - 35s 17ms/step - loss: 0.0829 - accuracy: 0.9715 - val_loss: 0.0595 - val_accuracy: 0.9796\n",
      "Epoch 5/50\n",
      "2046/2048 [============================>.] - ETA: 0s - loss: 0.0689 - accuracy: 0.9767\n",
      "Epoch 5: val_accuracy improved from 0.97961 to 0.98535, saving model to model_checkpoints/my_model_weights_best.keras\n",
      "2048/2048 [==============================] - 39s 19ms/step - loss: 0.0688 - accuracy: 0.9768 - val_loss: 0.0466 - val_accuracy: 0.9854\n",
      "Epoch 6/50\n",
      "2047/2048 [============================>.] - ETA: 0s - loss: 0.0593 - accuracy: 0.9803\n",
      "Epoch 6: val_accuracy improved from 0.98535 to 0.98792, saving model to model_checkpoints/my_model_weights_best.keras\n",
      "2048/2048 [==============================] - 37s 18ms/step - loss: 0.0593 - accuracy: 0.9803 - val_loss: 0.0402 - val_accuracy: 0.9879\n",
      "Epoch 7/50\n",
      "2046/2048 [============================>.] - ETA: 0s - loss: 0.0588 - accuracy: 0.9804\n",
      "Epoch 7: val_accuracy improved from 0.98792 to 0.98926, saving model to model_checkpoints/my_model_weights_best.keras\n",
      "2048/2048 [==============================] - 36s 17ms/step - loss: 0.0588 - accuracy: 0.9804 - val_loss: 0.0342 - val_accuracy: 0.9893\n",
      "Epoch 8/50\n",
      "2046/2048 [============================>.] - ETA: 0s - loss: 0.0510 - accuracy: 0.9845\n",
      "Epoch 8: val_accuracy did not improve from 0.98926\n",
      "2048/2048 [==============================] - 36s 17ms/step - loss: 0.0510 - accuracy: 0.9845 - val_loss: 0.0389 - val_accuracy: 0.9878\n",
      "Epoch 9/50\n",
      "2047/2048 [============================>.] - ETA: 0s - loss: 0.0472 - accuracy: 0.9861\n",
      "Epoch 9: val_accuracy improved from 0.98926 to 0.99084, saving model to model_checkpoints/my_model_weights_best.keras\n",
      "2048/2048 [==============================] - 36s 18ms/step - loss: 0.0473 - accuracy: 0.9860 - val_loss: 0.0314 - val_accuracy: 0.9908\n",
      "Epoch 10/50\n",
      "2046/2048 [============================>.] - ETA: 0s - loss: 0.0414 - accuracy: 0.9879\n",
      "Epoch 10: val_accuracy improved from 0.99084 to 0.99298, saving model to model_checkpoints/my_model_weights_best.keras\n",
      "2048/2048 [==============================] - 36s 18ms/step - loss: 0.0414 - accuracy: 0.9879 - val_loss: 0.0279 - val_accuracy: 0.9930\n",
      "Epoch 11/50\n",
      "2047/2048 [============================>.] - ETA: 0s - loss: 0.0370 - accuracy: 0.9892\n",
      "Epoch 11: val_accuracy did not improve from 0.99298\n",
      "2048/2048 [==============================] - 36s 17ms/step - loss: 0.0369 - accuracy: 0.9892 - val_loss: 0.0290 - val_accuracy: 0.9920\n",
      "Epoch 12/50\n",
      "2045/2048 [============================>.] - ETA: 0s - loss: 0.0330 - accuracy: 0.9904\n",
      "Epoch 12: val_accuracy improved from 0.99298 to 0.99329, saving model to model_checkpoints/my_model_weights_best.keras\n",
      "2048/2048 [==============================] - 36s 17ms/step - loss: 0.0329 - accuracy: 0.9904 - val_loss: 0.0246 - val_accuracy: 0.9933\n",
      "Epoch 13/50\n",
      "2046/2048 [============================>.] - ETA: 0s - loss: 0.0423 - accuracy: 0.9876\n",
      "Epoch 13: val_accuracy did not improve from 0.99329\n",
      "2048/2048 [==============================] - 36s 18ms/step - loss: 0.0423 - accuracy: 0.9876 - val_loss: 0.0287 - val_accuracy: 0.9916\n",
      "Epoch 14/50\n",
      "2046/2048 [============================>.] - ETA: 0s - loss: 0.0407 - accuracy: 0.9888\n",
      "Epoch 14: val_accuracy did not improve from 0.99329\n",
      "2048/2048 [==============================] - 36s 18ms/step - loss: 0.0407 - accuracy: 0.9888 - val_loss: 0.0344 - val_accuracy: 0.9900\n",
      "Epoch 15/50\n",
      "2045/2048 [============================>.] - ETA: 0s - loss: 0.0338 - accuracy: 0.9909\n",
      "Epoch 15: val_accuracy improved from 0.99329 to 0.99408, saving model to model_checkpoints/my_model_weights_best.keras\n",
      "2048/2048 [==============================] - 36s 18ms/step - loss: 0.0338 - accuracy: 0.9909 - val_loss: 0.0224 - val_accuracy: 0.9941\n",
      "Epoch 16/50\n",
      "2046/2048 [============================>.] - ETA: 0s - loss: 0.0279 - accuracy: 0.9926\n",
      "Epoch 16: val_accuracy did not improve from 0.99408\n",
      "2048/2048 [==============================] - 36s 18ms/step - loss: 0.0280 - accuracy: 0.9926 - val_loss: 0.0245 - val_accuracy: 0.9940\n",
      "Epoch 17/50\n",
      "2046/2048 [============================>.] - ETA: 0s - loss: 0.0287 - accuracy: 0.9924\n",
      "Epoch 17: val_accuracy improved from 0.99408 to 0.99512, saving model to model_checkpoints/my_model_weights_best.keras\n",
      "2048/2048 [==============================] - 36s 18ms/step - loss: 0.0286 - accuracy: 0.9924 - val_loss: 0.0216 - val_accuracy: 0.9951\n",
      "Epoch 18/50\n",
      "2046/2048 [============================>.] - ETA: 0s - loss: 0.0290 - accuracy: 0.9923\n",
      "Epoch 18: val_accuracy did not improve from 0.99512\n",
      "2048/2048 [==============================] - 36s 18ms/step - loss: 0.0290 - accuracy: 0.9923 - val_loss: 0.0250 - val_accuracy: 0.9919\n",
      "Epoch 19/50\n",
      "2046/2048 [============================>.] - ETA: 0s - loss: 0.0282 - accuracy: 0.9924\n",
      "Epoch 19: val_accuracy improved from 0.99512 to 0.99518, saving model to model_checkpoints/my_model_weights_best.keras\n",
      "2048/2048 [==============================] - 36s 18ms/step - loss: 0.0282 - accuracy: 0.9924 - val_loss: 0.0208 - val_accuracy: 0.9952\n",
      "Epoch 20/50\n",
      "2046/2048 [============================>.] - ETA: 0s - loss: 0.0254 - accuracy: 0.9932\n",
      "Epoch 20: val_accuracy improved from 0.99518 to 0.99573, saving model to model_checkpoints/my_model_weights_best.keras\n",
      "2048/2048 [==============================] - 36s 18ms/step - loss: 0.0254 - accuracy: 0.9933 - val_loss: 0.0167 - val_accuracy: 0.9957\n",
      "Epoch 21/50\n",
      "2047/2048 [============================>.] - ETA: 0s - loss: 0.0240 - accuracy: 0.9940\n",
      "Epoch 21: val_accuracy did not improve from 0.99573\n",
      "2048/2048 [==============================] - 36s 18ms/step - loss: 0.0240 - accuracy: 0.9940 - val_loss: 0.0185 - val_accuracy: 0.9955\n",
      "Epoch 22/50\n",
      "2048/2048 [==============================] - ETA: 0s - loss: 0.0253 - accuracy: 0.9936\n",
      "Epoch 22: val_accuracy improved from 0.99573 to 0.99579, saving model to model_checkpoints/my_model_weights_best.keras\n",
      "2048/2048 [==============================] - 36s 18ms/step - loss: 0.0253 - accuracy: 0.9936 - val_loss: 0.0177 - val_accuracy: 0.9958\n",
      "Epoch 23/50\n",
      "2048/2048 [==============================] - ETA: 0s - loss: 0.0207 - accuracy: 0.9946\n",
      "Epoch 23: val_accuracy did not improve from 0.99579\n",
      "2048/2048 [==============================] - 36s 18ms/step - loss: 0.0207 - accuracy: 0.9946 - val_loss: 0.0174 - val_accuracy: 0.9958\n",
      "Epoch 24/50\n",
      "2045/2048 [============================>.] - ETA: 0s - loss: 0.0219 - accuracy: 0.9941\n",
      "Epoch 24: val_accuracy did not improve from 0.99579\n",
      "2048/2048 [==============================] - 36s 18ms/step - loss: 0.0219 - accuracy: 0.9941 - val_loss: 0.0180 - val_accuracy: 0.9955\n",
      "Epoch 25/50\n",
      "2045/2048 [============================>.] - ETA: 0s - loss: 0.0207 - accuracy: 0.9946\n",
      "Epoch 25: val_accuracy improved from 0.99579 to 0.99670, saving model to model_checkpoints/my_model_weights_best.keras\n",
      "2048/2048 [==============================] - 36s 18ms/step - loss: 0.0206 - accuracy: 0.9946 - val_loss: 0.0143 - val_accuracy: 0.9967\n",
      "Epoch 26/50\n",
      "2046/2048 [============================>.] - ETA: 0s - loss: 0.0220 - accuracy: 0.9947\n",
      "Epoch 26: val_accuracy did not improve from 0.99670\n",
      "2048/2048 [==============================] - 36s 18ms/step - loss: 0.0220 - accuracy: 0.9947 - val_loss: 0.0152 - val_accuracy: 0.9965\n",
      "Epoch 27/50\n",
      "2048/2048 [==============================] - ETA: 0s - loss: 0.0198 - accuracy: 0.9948\n",
      "Epoch 27: val_accuracy did not improve from 0.99670\n",
      "2048/2048 [==============================] - 36s 18ms/step - loss: 0.0198 - accuracy: 0.9948 - val_loss: 0.0157 - val_accuracy: 0.9963\n",
      "Epoch 28/50\n",
      "2048/2048 [==============================] - ETA: 0s - loss: 0.0202 - accuracy: 0.9949\n",
      "Epoch 28: val_accuracy did not improve from 0.99670\n",
      "2048/2048 [==============================] - 37s 18ms/step - loss: 0.0202 - accuracy: 0.9949 - val_loss: 0.0149 - val_accuracy: 0.9967\n",
      "Epoch 29/50\n",
      "2048/2048 [==============================] - ETA: 0s - loss: 0.0213 - accuracy: 0.9949\n",
      "Epoch 29: val_accuracy did not improve from 0.99670\n",
      "2048/2048 [==============================] - 36s 18ms/step - loss: 0.0213 - accuracy: 0.9949 - val_loss: 0.0173 - val_accuracy: 0.9958\n",
      "Epoch 30/50\n",
      "2046/2048 [============================>.] - ETA: 0s - loss: 0.0204 - accuracy: 0.9946\n",
      "Epoch 30: val_accuracy did not improve from 0.99670\n",
      "2048/2048 [==============================] - 37s 18ms/step - loss: 0.0204 - accuracy: 0.9946 - val_loss: 0.0147 - val_accuracy: 0.9964\n",
      "Epoch 31/50\n",
      "2047/2048 [============================>.] - ETA: 0s - loss: 0.0198 - accuracy: 0.9950\n",
      "Epoch 31: val_accuracy did not improve from 0.99670\n",
      "2048/2048 [==============================] - 36s 18ms/step - loss: 0.0198 - accuracy: 0.9950 - val_loss: 0.0175 - val_accuracy: 0.9947\n",
      "Epoch 32/50\n",
      "2048/2048 [==============================] - ETA: 0s - loss: 0.0161 - accuracy: 0.9961\n",
      "Epoch 32: val_accuracy improved from 0.99670 to 0.99689, saving model to model_checkpoints/my_model_weights_best.keras\n",
      "2048/2048 [==============================] - 37s 18ms/step - loss: 0.0161 - accuracy: 0.9961 - val_loss: 0.0135 - val_accuracy: 0.9969\n",
      "Epoch 33/50\n",
      "2048/2048 [==============================] - ETA: 0s - loss: 0.0214 - accuracy: 0.9941\n",
      "Epoch 33: val_accuracy improved from 0.99689 to 0.99707, saving model to model_checkpoints/my_model_weights_best.keras\n",
      "2048/2048 [==============================] - 36s 18ms/step - loss: 0.0214 - accuracy: 0.9941 - val_loss: 0.0142 - val_accuracy: 0.9971\n",
      "Epoch 34/50\n",
      "2046/2048 [============================>.] - ETA: 0s - loss: 0.0156 - accuracy: 0.9959\n",
      "Epoch 34: val_accuracy improved from 0.99707 to 0.99719, saving model to model_checkpoints/my_model_weights_best.keras\n",
      "2048/2048 [==============================] - 36s 18ms/step - loss: 0.0156 - accuracy: 0.9959 - val_loss: 0.0124 - val_accuracy: 0.9972\n",
      "Epoch 35/50\n",
      "2047/2048 [============================>.] - ETA: 0s - loss: 0.0170 - accuracy: 0.9958\n",
      "Epoch 35: val_accuracy improved from 0.99719 to 0.99756, saving model to model_checkpoints/my_model_weights_best.keras\n",
      "2048/2048 [==============================] - 37s 18ms/step - loss: 0.0170 - accuracy: 0.9958 - val_loss: 0.0114 - val_accuracy: 0.9976\n",
      "Epoch 36/50\n",
      "2046/2048 [============================>.] - ETA: 0s - loss: 0.0168 - accuracy: 0.9962\n",
      "Epoch 36: val_accuracy did not improve from 0.99756\n",
      "2048/2048 [==============================] - 37s 18ms/step - loss: 0.0167 - accuracy: 0.9962 - val_loss: 0.0113 - val_accuracy: 0.9975\n",
      "Epoch 37/50\n",
      "2046/2048 [============================>.] - ETA: 0s - loss: 0.0158 - accuracy: 0.9963\n",
      "Epoch 37: val_accuracy improved from 0.99756 to 0.99811, saving model to model_checkpoints/my_model_weights_best.keras\n",
      "2048/2048 [==============================] - 37s 18ms/step - loss: 0.0158 - accuracy: 0.9963 - val_loss: 0.0095 - val_accuracy: 0.9981\n",
      "Epoch 38/50\n",
      "2046/2048 [============================>.] - ETA: 0s - loss: 0.0161 - accuracy: 0.9962\n",
      "Epoch 38: val_accuracy did not improve from 0.99811\n",
      "2048/2048 [==============================] - 37s 18ms/step - loss: 0.0160 - accuracy: 0.9962 - val_loss: 0.0112 - val_accuracy: 0.9976\n",
      "Epoch 39/50\n",
      "2046/2048 [============================>.] - ETA: 0s - loss: 0.0143 - accuracy: 0.9965\n",
      "Epoch 39: val_accuracy did not improve from 0.99811\n",
      "2048/2048 [==============================] - 36s 18ms/step - loss: 0.0143 - accuracy: 0.9965 - val_loss: 0.0120 - val_accuracy: 0.9974\n",
      "Epoch 40/50\n",
      "2047/2048 [============================>.] - ETA: 0s - loss: 0.0155 - accuracy: 0.9962\n",
      "Epoch 40: val_accuracy did not improve from 0.99811\n",
      "2048/2048 [==============================] - 37s 18ms/step - loss: 0.0155 - accuracy: 0.9962 - val_loss: 0.0163 - val_accuracy: 0.9964\n",
      "Epoch 41/50\n",
      "2047/2048 [============================>.] - ETA: 0s - loss: 0.0129 - accuracy: 0.9969\n",
      "Epoch 41: val_accuracy did not improve from 0.99811\n",
      "2048/2048 [==============================] - 37s 18ms/step - loss: 0.0129 - accuracy: 0.9969 - val_loss: 0.0094 - val_accuracy: 0.9981\n",
      "Epoch 42/50\n",
      "2048/2048 [==============================] - ETA: 0s - loss: 0.0130 - accuracy: 0.9970\n",
      "Epoch 42: val_accuracy did not improve from 0.99811\n",
      "2048/2048 [==============================] - 37s 18ms/step - loss: 0.0130 - accuracy: 0.9970 - val_loss: 0.0102 - val_accuracy: 0.9980\n",
      "Epoch 43/50\n",
      "2047/2048 [============================>.] - ETA: 0s - loss: 0.0177 - accuracy: 0.9961\n",
      "Epoch 43: val_accuracy did not improve from 0.99811\n",
      "2048/2048 [==============================] - 37s 18ms/step - loss: 0.0177 - accuracy: 0.9961 - val_loss: 0.0103 - val_accuracy: 0.9980\n",
      "Epoch 44/50\n",
      "2046/2048 [============================>.] - ETA: 0s - loss: 0.0129 - accuracy: 0.9972\n",
      "Epoch 44: val_accuracy did not improve from 0.99811\n",
      "2048/2048 [==============================] - 37s 18ms/step - loss: 0.0129 - accuracy: 0.9972 - val_loss: 0.0094 - val_accuracy: 0.9981\n",
      "Epoch 45/50\n",
      "2047/2048 [============================>.] - ETA: 0s - loss: 0.0125 - accuracy: 0.9971\n",
      "Epoch 45: val_accuracy did not improve from 0.99811\n",
      "2048/2048 [==============================] - 37s 18ms/step - loss: 0.0125 - accuracy: 0.9971 - val_loss: 0.0091 - val_accuracy: 0.9981\n",
      "Epoch 46/50\n",
      "2045/2048 [============================>.] - ETA: 0s - loss: 0.0102 - accuracy: 0.9976\n",
      "Epoch 46: val_accuracy improved from 0.99811 to 0.99847, saving model to model_checkpoints/my_model_weights_best.keras\n",
      "2048/2048 [==============================] - 37s 18ms/step - loss: 0.0103 - accuracy: 0.9976 - val_loss: 0.0076 - val_accuracy: 0.9985\n",
      "Epoch 47/50\n",
      "2046/2048 [============================>.] - ETA: 0s - loss: 0.0136 - accuracy: 0.9969\n",
      "Epoch 47: val_accuracy did not improve from 0.99847\n",
      "2048/2048 [==============================] - 37s 18ms/step - loss: 0.0136 - accuracy: 0.9969 - val_loss: 0.0106 - val_accuracy: 0.9974\n",
      "Epoch 48/50\n",
      "2047/2048 [============================>.] - ETA: 0s - loss: 0.0130 - accuracy: 0.9971\n",
      "Epoch 48: val_accuracy did not improve from 0.99847\n",
      "2048/2048 [==============================] - 37s 18ms/step - loss: 0.0129 - accuracy: 0.9971 - val_loss: 0.0095 - val_accuracy: 0.9980\n",
      "Epoch 49/50\n",
      "2045/2048 [============================>.] - ETA: 0s - loss: 0.0118 - accuracy: 0.9973\n",
      "Epoch 49: val_accuracy did not improve from 0.99847\n",
      "2048/2048 [==============================] - 37s 18ms/step - loss: 0.0117 - accuracy: 0.9973 - val_loss: 0.0086 - val_accuracy: 0.9985\n",
      "Epoch 50/50\n",
      "2046/2048 [============================>.] - ETA: 0s - loss: 0.0115 - accuracy: 0.9974\n",
      "Epoch 50: val_accuracy did not improve from 0.99847\n",
      "2048/2048 [==============================] - 37s 18ms/step - loss: 0.0115 - accuracy: 0.9974 - val_loss: 0.0139 - val_accuracy: 0.9966\n"
     ]
    },
    {
     "data": {
      "text/plain": "<keras.src.callbacks.History at 0x7fba6c1daed0>"
     },
     "execution_count": 6,
     "metadata": {},
     "output_type": "execute_result"
    }
   ],
   "source": [
    "steps_per_epoch = 2**11\n",
    "epochs = 50\n",
    "\n",
    "checkpoint_filepath = 'model_checkpoints/my_model_weights_best.keras'\n",
    "model_checkpoint_callback = tf.keras.callbacks.ModelCheckpoint(\n",
    "    filepath=checkpoint_filepath,\n",
    "    monitor='val_accuracy',\n",
    "    mode='max',\n",
    "    verbose=1,\n",
    "    save_best_only=True)\n",
    "\n",
    "\n",
    "model.fit(address_dataset, steps_per_epoch=steps_per_epoch, epochs=epochs, validation_data=VALID_DATA, callbacks=[model_checkpoint_callback])"
   ],
   "metadata": {
    "collapsed": false,
    "ExecuteTime": {
     "end_time": "2024-02-07T01:31:34.694556137Z",
     "start_time": "2024-02-07T01:01:14.552531750Z"
    }
   },
   "id": "fdf9cb10360a614",
   "execution_count": 6
  },
  {
   "cell_type": "code",
   "outputs": [],
   "source": [
    "best_model = tf.keras.models.load_model('model_checkpoints/my_model_weights_best.keras')"
   ],
   "metadata": {
    "collapsed": false,
    "ExecuteTime": {
     "end_time": "2024-02-07T02:16:01.709187787Z",
     "start_time": "2024-02-07T02:16:00.658393328Z"
    }
   },
   "id": "5835151d4b4549cc",
   "execution_count": 7
  },
  {
   "cell_type": "code",
   "outputs": [
    {
     "name": "stdout",
     "output_type": "stream",
     "text": [
      "10/10 [==============================] - 1s 12ms/step\n"
     ]
    },
    {
     "data": {
      "text/plain": "array([[1.16509181e-02],\n       [1.64270954e-04],\n       [6.77690914e-05],\n       [8.90602647e-10],\n       [6.86086699e-09],\n       [3.45905721e-10],\n       [1.38221794e-05],\n       [1.26401492e-05],\n       [2.07014081e-20],\n       [1.56696586e-10],\n       [3.91011196e-10],\n       [1.39061397e-13],\n       [3.63835125e-15],\n       [5.87576591e-14],\n       [1.53945277e-11],\n       [1.81796779e-07],\n       [1.77151072e-04],\n       [1.43284039e-12],\n       [2.31816056e-16],\n       [1.67447354e-08],\n       [1.63651759e-08],\n       [5.76673001e-16],\n       [1.12914896e-14],\n       [3.51612175e-06],\n       [2.82999419e-04],\n       [5.14564248e-13],\n       [1.65580101e-13],\n       [2.13576872e-02],\n       [4.89100785e-07],\n       [5.59272806e-09],\n       [1.68796064e-12],\n       [1.13358418e-07],\n       [2.16972614e-15],\n       [6.22412699e-09],\n       [5.80649721e-12],\n       [7.03506808e-10],\n       [2.51899755e-14],\n       [2.66089641e-14],\n       [6.37806821e-11],\n       [2.83349073e-06],\n       [1.50419771e-24],\n       [1.00696944e-10],\n       [2.53759595e-07],\n       [1.73424150e-10],\n       [1.88622108e-14],\n       [4.02180385e-03],\n       [9.76678721e-12],\n       [2.88401053e-10],\n       [4.67283317e-05],\n       [2.20932977e-17],\n       [9.38023791e-12],\n       [1.54614610e-09],\n       [3.28299663e-08],\n       [2.88883923e-04],\n       [1.65200792e-02],\n       [1.81947307e-19],\n       [1.64430199e-12],\n       [1.69714977e-14],\n       [4.34056074e-06],\n       [3.43980787e-06],\n       [9.35089298e-11],\n       [1.99596517e-15],\n       [2.63650946e-22],\n       [1.65671227e-05],\n       [3.82911723e-11],\n       [1.81669236e-07],\n       [4.05305292e-13],\n       [1.56507522e-04],\n       [4.85261550e-14],\n       [8.88182512e-07],\n       [1.38830180e-11],\n       [1.67649978e-05],\n       [7.17098386e-12],\n       [3.88217263e-13],\n       [1.01122325e-17],\n       [2.01097843e-27],\n       [8.52067547e-04],\n       [7.42588006e-03],\n       [5.93948773e-13],\n       [1.32421709e-14],\n       [3.67849424e-07],\n       [2.34039489e-05],\n       [1.89203515e-08],\n       [2.47729698e-10],\n       [8.08980313e-12],\n       [6.35285868e-09],\n       [3.28594487e-17],\n       [1.29356863e-06],\n       [2.06051617e-17],\n       [1.52002480e-10],\n       [3.24829307e-06],\n       [2.02401770e-06],\n       [7.80767798e-14],\n       [9.44576969e-12],\n       [2.40140114e-16],\n       [8.36237518e-07],\n       [1.19915022e-09],\n       [8.23046926e-12],\n       [2.59839052e-13],\n       [3.10077007e-06],\n       [6.01697175e-19],\n       [4.60541077e-10],\n       [7.90698635e-08],\n       [3.69537456e-10],\n       [2.15734981e-05],\n       [7.34097585e-02],\n       [2.27552742e-12],\n       [1.67205726e-04],\n       [2.91724652e-12],\n       [8.10346081e-18],\n       [1.05335684e-02],\n       [3.37524747e-04],\n       [1.58876869e-15],\n       [7.05732873e-06],\n       [7.77456250e-08],\n       [9.17737658e-19],\n       [4.66650259e-03],\n       [3.49897888e-09],\n       [1.44639937e-02],\n       [1.16080507e-07],\n       [8.59745342e-08],\n       [2.13939757e-06],\n       [1.21688579e-04],\n       [1.95554484e-09],\n       [1.02219224e-06],\n       [1.47494003e-01],\n       [2.94783131e-08],\n       [4.37151844e-04],\n       [6.70909319e-14],\n       [8.73162862e-05],\n       [1.16081913e-19],\n       [4.89149601e-14],\n       [1.21716539e-07],\n       [1.92601366e-08],\n       [2.25207616e-13],\n       [1.55888280e-12],\n       [1.29130271e-07],\n       [1.48799779e-28],\n       [8.02176305e-13],\n       [3.19874879e-19],\n       [2.06485211e-07],\n       [1.29658160e-15],\n       [2.38947250e-19],\n       [1.15464756e-11],\n       [1.70595613e-05],\n       [4.30104975e-03],\n       [3.18059938e-06],\n       [4.76633571e-02],\n       [2.94622049e-10],\n       [2.23439351e-16],\n       [9.95947540e-01],\n       [9.96757329e-01],\n       [2.54526972e-11],\n       [2.89907563e-04],\n       [1.73701195e-03],\n       [9.96896029e-01],\n       [9.96505976e-01],\n       [9.98552501e-01],\n       [9.98192012e-01],\n       [9.98452663e-01],\n       [9.98720944e-01],\n       [9.98848200e-01],\n       [9.98509943e-01],\n       [6.17084324e-01],\n       [9.83360410e-01],\n       [9.47193265e-01],\n       [9.99402285e-01],\n       [9.97759461e-01],\n       [9.92079318e-01],\n       [9.96695280e-01],\n       [9.95941281e-01],\n       [1.36882462e-13],\n       [9.98999059e-01],\n       [9.95054126e-01],\n       [4.78201429e-14],\n       [9.97127831e-01],\n       [9.99354303e-01],\n       [9.98121798e-01],\n       [9.97886240e-01],\n       [1.62325320e-15],\n       [9.95950103e-01],\n       [9.69007313e-01],\n       [9.56227303e-01],\n       [9.78538096e-01],\n       [9.97320592e-01],\n       [9.74047363e-01],\n       [9.99739707e-01],\n       [9.95108545e-01],\n       [9.95889723e-01],\n       [9.96337533e-01],\n       [9.96118426e-01],\n       [9.87617970e-01],\n       [9.95875537e-01],\n       [3.37015814e-03],\n       [9.99646068e-01],\n       [5.69254696e-01],\n       [9.97400880e-01],\n       [9.98849034e-01],\n       [9.92931604e-01],\n       [9.86326218e-01],\n       [9.97497380e-01],\n       [9.99792159e-01],\n       [9.85156059e-01],\n       [9.98598754e-01],\n       [9.08196438e-03],\n       [9.99381065e-01],\n       [9.99333084e-01],\n       [9.99657750e-01],\n       [9.57360625e-01],\n       [2.39372510e-03],\n       [9.62521195e-01],\n       [8.71992409e-01],\n       [9.98521626e-01],\n       [9.96826410e-01],\n       [9.98519838e-01],\n       [9.93168354e-01],\n       [9.98079777e-01],\n       [9.89954114e-01],\n       [9.95364189e-01],\n       [9.98008430e-01],\n       [9.99343216e-01],\n       [9.98539090e-01],\n       [9.95950103e-01],\n       [9.98222530e-01],\n       [9.99488115e-01],\n       [9.94833112e-01],\n       [9.96650517e-01],\n       [9.97394562e-01],\n       [3.27264071e-01],\n       [9.92651522e-01],\n       [9.99198496e-01],\n       [9.95090485e-01],\n       [9.98217762e-01],\n       [9.85123098e-01],\n       [9.96372461e-01],\n       [9.95384514e-01],\n       [9.98707771e-01],\n       [9.97618735e-01],\n       [9.98509943e-01],\n       [4.12060380e-01],\n       [9.97466207e-01],\n       [9.98525441e-01],\n       [9.98933733e-01],\n       [9.98509943e-01],\n       [9.97062862e-01],\n       [9.99376357e-01],\n       [9.92079318e-01],\n       [9.96942461e-01],\n       [9.98996913e-01],\n       [8.94217268e-02],\n       [9.44165230e-01],\n       [9.99608099e-01],\n       [9.99651551e-01],\n       [9.99445140e-01],\n       [9.96919513e-01],\n       [9.95858133e-01],\n       [9.62661386e-01],\n       [9.77460861e-01],\n       [9.99484897e-01],\n       [9.99469697e-01],\n       [9.97407138e-01],\n       [9.72089589e-01],\n       [2.74111490e-13],\n       [9.95991647e-01],\n       [7.39848911e-05],\n       [9.95127439e-01],\n       [9.99778807e-01],\n       [9.95895982e-01],\n       [9.99899864e-01],\n       [1.83592707e-01],\n       [9.99486208e-01],\n       [9.99374449e-01],\n       [1.61648557e-01],\n       [9.98028934e-01],\n       [9.99266326e-01],\n       [3.57955392e-03],\n       [9.98081565e-01],\n       [9.96829212e-01],\n       [9.99764025e-01],\n       [9.98994887e-01],\n       [9.98032510e-01],\n       [9.98526216e-01],\n       [9.99787509e-01],\n       [9.29651499e-01],\n       [9.97516394e-01],\n       [9.98962879e-01],\n       [9.97632027e-01],\n       [9.97503221e-01],\n       [9.97024953e-01],\n       [9.95949507e-01],\n       [9.97133970e-01],\n       [9.99004424e-01],\n       [9.97948110e-01],\n       [9.96917248e-01],\n       [9.75862086e-01],\n       [9.99544322e-01],\n       [9.99709427e-01],\n       [9.99844313e-01],\n       [9.71499622e-01],\n       [2.19345180e-04],\n       [9.81262982e-01],\n       [9.91837323e-01],\n       [9.74928558e-01],\n       [9.69622910e-01],\n       [9.70763683e-01],\n       [9.97055054e-01],\n       [9.95219767e-01],\n       [9.96322870e-01],\n       [9.95979428e-01],\n       [9.95580256e-01],\n       [9.50320065e-01],\n       [8.97247791e-01],\n       [8.92265737e-01],\n       [9.62221861e-01],\n       [9.32985723e-01],\n       [1.15111153e-15],\n       [1.78700256e-15],\n       [1.25430979e-15],\n       [1.23724461e-15],\n       [1.37139738e-15]], dtype=float32)"
     },
     "execution_count": 10,
     "metadata": {},
     "output_type": "execute_result"
    }
   ],
   "source": [
    "test_predictions = best_model.predict(TEST_DATA[0])"
   ],
   "metadata": {
    "collapsed": false,
    "ExecuteTime": {
     "end_time": "2024-02-07T02:17:15.169855773Z",
     "start_time": "2024-02-07T02:17:13.693353767Z"
    }
   },
   "id": "7e4269b6a83b44a5",
   "execution_count": 10
  },
  {
   "cell_type": "code",
   "outputs": [
    {
     "name": "stdout",
     "output_type": "stream",
     "text": [
      "10/10 [==============================] - 1s 10ms/step - loss: 0.7067 - accuracy: 0.9281\n"
     ]
    },
    {
     "data": {
      "text/plain": "[0.7067360281944275, 0.9281250238418579]"
     },
     "execution_count": 12,
     "metadata": {},
     "output_type": "execute_result"
    }
   ],
   "source": [
    "best_model.evaluate(*TEST_DATA)"
   ],
   "metadata": {
    "collapsed": false,
    "ExecuteTime": {
     "end_time": "2024-02-07T02:21:14.017387921Z",
     "start_time": "2024-02-07T02:21:12.583743858Z"
    }
   },
   "id": "3cc6f1e27ca0095c",
   "execution_count": 12
  }
 ],
 "metadata": {
  "kernelspec": {
   "display_name": "Python 3",
   "language": "python",
   "name": "python3"
  },
  "language_info": {
   "codemirror_mode": {
    "name": "ipython",
    "version": 2
   },
   "file_extension": ".py",
   "mimetype": "text/x-python",
   "name": "python",
   "nbconvert_exporter": "python",
   "pygments_lexer": "ipython2",
   "version": "2.7.6"
  }
 },
 "nbformat": 4,
 "nbformat_minor": 5
}
