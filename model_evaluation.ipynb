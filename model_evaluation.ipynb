{
 "cells": [
  {
   "cell_type": "code",
   "execution_count": 1,
   "id": "initial_id",
   "metadata": {
    "collapsed": true,
    "ExecuteTime": {
     "end_time": "2024-02-25T22:14:14.652750Z",
     "start_time": "2024-02-25T22:12:57.413885Z"
    }
   },
   "outputs": [
    {
     "name": "stderr",
     "output_type": "stream",
     "text": [
      "2024-02-25 15:12:57.822405: I tensorflow/core/util/port.cc:113] oneDNN custom operations are on. You may see slightly different numerical results due to floating-point round-off errors from different computation orders. To turn them off, set the environment variable `TF_ENABLE_ONEDNN_OPTS=0`.\n",
      "2024-02-25 15:12:58.064996: E external/local_xla/xla/stream_executor/cuda/cuda_dnn.cc:9261] Unable to register cuDNN factory: Attempting to register factory for plugin cuDNN when one has already been registered\n",
      "2024-02-25 15:12:58.065035: E external/local_xla/xla/stream_executor/cuda/cuda_fft.cc:607] Unable to register cuFFT factory: Attempting to register factory for plugin cuFFT when one has already been registered\n",
      "2024-02-25 15:12:58.099220: E external/local_xla/xla/stream_executor/cuda/cuda_blas.cc:1515] Unable to register cuBLAS factory: Attempting to register factory for plugin cuBLAS when one has already been registered\n",
      "2024-02-25 15:12:58.172166: I tensorflow/core/platform/cpu_feature_guard.cc:182] This TensorFlow binary is optimized to use available CPU instructions in performance-critical operations.\n",
      "To enable the following instructions: AVX2 AVX_VNNI FMA, in other operations, rebuild TensorFlow with the appropriate compiler flags.\n",
      "2024-02-25 15:12:59.026049: W tensorflow/compiler/tf2tensorrt/utils/py_utils.cc:38] TF-TRT Warning: Could not find TensorRT\n"
     ]
    }
   ],
   "source": [
    "import pandas as pd\n",
    "import tensorflow as tf\n",
    "from data_augmentation import TEST_DATA\n",
    "from sklearn.metrics import confusion_matrix\n",
    "import seaborn as sns\n",
    "import matplotlib.pyplot as plt"
   ]
  },
  {
   "cell_type": "code",
   "outputs": [
    {
     "name": "stderr",
     "output_type": "stream",
     "text": [
      "2024-02-25 15:16:52.462906: I external/local_xla/xla/stream_executor/cuda/cuda_executor.cc:901] successful NUMA node read from SysFS had negative value (-1), but there must be at least one NUMA node, so returning NUMA node zero. See more at https://github.com/torvalds/linux/blob/v6.0/Documentation/ABI/testing/sysfs-bus-pci#L344-L355\n",
      "2024-02-25 15:16:52.599438: I external/local_xla/xla/stream_executor/cuda/cuda_executor.cc:901] successful NUMA node read from SysFS had negative value (-1), but there must be at least one NUMA node, so returning NUMA node zero. See more at https://github.com/torvalds/linux/blob/v6.0/Documentation/ABI/testing/sysfs-bus-pci#L344-L355\n",
      "2024-02-25 15:16:52.599782: I external/local_xla/xla/stream_executor/cuda/cuda_executor.cc:901] successful NUMA node read from SysFS had negative value (-1), but there must be at least one NUMA node, so returning NUMA node zero. See more at https://github.com/torvalds/linux/blob/v6.0/Documentation/ABI/testing/sysfs-bus-pci#L344-L355\n",
      "2024-02-25 15:16:52.602078: I external/local_xla/xla/stream_executor/cuda/cuda_executor.cc:901] successful NUMA node read from SysFS had negative value (-1), but there must be at least one NUMA node, so returning NUMA node zero. See more at https://github.com/torvalds/linux/blob/v6.0/Documentation/ABI/testing/sysfs-bus-pci#L344-L355\n",
      "2024-02-25 15:16:52.602304: I external/local_xla/xla/stream_executor/cuda/cuda_executor.cc:901] successful NUMA node read from SysFS had negative value (-1), but there must be at least one NUMA node, so returning NUMA node zero. See more at https://github.com/torvalds/linux/blob/v6.0/Documentation/ABI/testing/sysfs-bus-pci#L344-L355\n",
      "2024-02-25 15:16:52.602456: I external/local_xla/xla/stream_executor/cuda/cuda_executor.cc:901] successful NUMA node read from SysFS had negative value (-1), but there must be at least one NUMA node, so returning NUMA node zero. See more at https://github.com/torvalds/linux/blob/v6.0/Documentation/ABI/testing/sysfs-bus-pci#L344-L355\n",
      "2024-02-25 15:16:52.647845: I external/local_xla/xla/stream_executor/cuda/cuda_executor.cc:901] successful NUMA node read from SysFS had negative value (-1), but there must be at least one NUMA node, so returning NUMA node zero. See more at https://github.com/torvalds/linux/blob/v6.0/Documentation/ABI/testing/sysfs-bus-pci#L344-L355\n",
      "2024-02-25 15:16:52.647983: I external/local_xla/xla/stream_executor/cuda/cuda_executor.cc:901] successful NUMA node read from SysFS had negative value (-1), but there must be at least one NUMA node, so returning NUMA node zero. See more at https://github.com/torvalds/linux/blob/v6.0/Documentation/ABI/testing/sysfs-bus-pci#L344-L355\n",
      "2024-02-25 15:16:52.648057: I external/local_xla/xla/stream_executor/cuda/cuda_executor.cc:901] successful NUMA node read from SysFS had negative value (-1), but there must be at least one NUMA node, so returning NUMA node zero. See more at https://github.com/torvalds/linux/blob/v6.0/Documentation/ABI/testing/sysfs-bus-pci#L344-L355\n",
      "2024-02-25 15:16:52.648109: I tensorflow/core/common_runtime/gpu/gpu_device.cc:1929] Created device /job:localhost/replica:0/task:0/device:GPU:0 with 2284 MB memory:  -> device: 0, name: NVIDIA GeForce RTX 3050 Laptop GPU, pci bus id: 0000:01:00.0, compute capability: 8.6\n",
      "2024-02-25 15:16:52.816738: I external/local_tsl/tsl/platform/default/subprocess.cc:304] Start cannot spawn child process: No such file or directory\n"
     ]
    }
   ],
   "source": [
    "best_model = tf.keras.models.load_model('model_checkpoints/my_model_weights_best.keras')\n",
    "test_df = pd.read_csv('test_data.csv')"
   ],
   "metadata": {
    "collapsed": false,
    "ExecuteTime": {
     "end_time": "2024-02-25T22:16:53.445044Z",
     "start_time": "2024-02-25T22:16:51.193009Z"
    }
   },
   "id": "fee946c1ee1b2268",
   "execution_count": 2
  },
  {
   "cell_type": "code",
   "outputs": [
    {
     "name": "stdout",
     "output_type": "stream",
     "text": [
      " 1/10 [==>...........................] - ETA: 7s"
     ]
    },
    {
     "name": "stderr",
     "output_type": "stream",
     "text": [
      "2024-02-25 15:16:57.278146: I external/local_xla/xla/stream_executor/cuda/cuda_dnn.cc:454] Loaded cuDNN version 8904\n"
     ]
    },
    {
     "name": "stdout",
     "output_type": "stream",
     "text": [
      "10/10 [==============================] - 1s 10ms/step\n"
     ]
    }
   ],
   "source": [
    "test_df['pred_proba'] = best_model.predict(TEST_DATA[0])"
   ],
   "metadata": {
    "collapsed": false,
    "ExecuteTime": {
     "end_time": "2024-02-25T22:16:57.551280Z",
     "start_time": "2024-02-25T22:16:56.542492Z"
    }
   },
   "id": "a4b5d53464804c8",
   "execution_count": 3
  },
  {
   "cell_type": "code",
   "outputs": [],
   "source": [
    "test_df['prediction'] = (test_df['pred_proba'] > 0.5).astype(int)\n",
    "test_df['is_same'] = test_df['is_same'].astype(int)"
   ],
   "metadata": {
    "collapsed": false,
    "ExecuteTime": {
     "end_time": "2024-02-25T22:16:58.819368Z",
     "start_time": "2024-02-25T22:16:58.814594Z"
    }
   },
   "id": "989ddd153c15246b",
   "execution_count": 4
  },
  {
   "cell_type": "code",
   "outputs": [
    {
     "data": {
      "text/plain": "0      0\n1      0\n2      0\n3      0\n4      0\n      ..\n315    0\n316    0\n317    0\n318    0\n319    0\nName: prediction, Length: 320, dtype: int64"
     },
     "execution_count": 5,
     "metadata": {},
     "output_type": "execute_result"
    }
   ],
   "source": [
    "test_df['prediction']"
   ],
   "metadata": {
    "collapsed": false,
    "ExecuteTime": {
     "end_time": "2024-02-25T22:16:59.071373Z",
     "start_time": "2024-02-25T22:16:59.063342Z"
    }
   },
   "id": "3bfbef686602e6b6",
   "execution_count": 5
  },
  {
   "cell_type": "code",
   "outputs": [
    {
     "data": {
      "text/plain": "0.928125"
     },
     "execution_count": 6,
     "metadata": {},
     "output_type": "execute_result"
    }
   ],
   "source": [
    "len(test_df[test_df['is_same'] == test_df['prediction']])/len(test_df)"
   ],
   "metadata": {
    "collapsed": false,
    "ExecuteTime": {
     "end_time": "2024-02-25T22:17:00.393588Z",
     "start_time": "2024-02-25T22:17:00.386508Z"
    }
   },
   "id": "d9ca40467353274d",
   "execution_count": 6
  },
  {
   "cell_type": "code",
   "outputs": [
    {
     "data": {
      "text/plain": "                                              adress_1  \\\n0    Донецька обл., м.Макіївка, вул.Українська, 3, ...   \n1    Житомирська обл., Брусилівський р-н, смт Бруси...   \n2    83010, Донецька обл., м.Донецьк, вул.Крамарчук...   \n3       65016, Одеська обл., м.Одеса, вул.Костанді, 38   \n4    44801, Волинська обл., Турійський р-н, смт Тур...   \n..                                                 ...   \n315                                     київ, синя, 10   \n316                                маріуполь, синя, 10   \n317                                    львів, синя, 10   \n318                                    луцьк, синя, 10   \n319                                  донецьк, синя, 10   \n\n                                              adress_2  is_same  prediction  \\\n0    ЧЕРКАСЬКА ОБЛ., ЧЕРКАСЬКИЙ РАЙОН, СЕЛО РУСЬКА ...        0           0   \n1    ЖИТОМИРСЬКА ОБЛ., МІСТО ЖИТОМИР, БОГУНСЬКИЙ РА...        0           0   \n2    ЛЬВІВСЬКА ОБЛ., МІСТО ЛЬВІВ, ЗАЛІЗНИЧНИЙ РАЙОН...        0           0   \n3    51254, ДНІПРОПЕТРОВСЬКА ОБЛ., НОВОМОСКОВСЬКИЙ ...        0           0   \n4    РІВНЕНСЬКА ОБЛ., РОКИТНІВСЬКИЙ РАЙОН, СЕЛИЩЕ М...        0           0   \n..                                                 ...      ...         ...   \n315                                   київ, червона, 5        0           0   \n316                              маріуполь, червона, 5        0           0   \n317                                  львів, червона, 5        0           0   \n318                                  луцьк, червона, 5        0           0   \n319                                донецьк, червона, 5        0           0   \n\n       pred_proba  \n0    1.165092e-02  \n1    1.642710e-04  \n2    6.776909e-05  \n3    8.906026e-10  \n4    6.860867e-09  \n..            ...  \n315  1.151112e-15  \n316  1.787003e-15  \n317  1.254310e-15  \n318  1.237245e-15  \n319  1.371397e-15  \n\n[320 rows x 5 columns]",
      "text/html": "<div>\n<style scoped>\n    .dataframe tbody tr th:only-of-type {\n        vertical-align: middle;\n    }\n\n    .dataframe tbody tr th {\n        vertical-align: top;\n    }\n\n    .dataframe thead th {\n        text-align: right;\n    }\n</style>\n<table border=\"1\" class=\"dataframe\">\n  <thead>\n    <tr style=\"text-align: right;\">\n      <th></th>\n      <th>adress_1</th>\n      <th>adress_2</th>\n      <th>is_same</th>\n      <th>prediction</th>\n      <th>pred_proba</th>\n    </tr>\n  </thead>\n  <tbody>\n    <tr>\n      <th>0</th>\n      <td>Донецька обл., м.Макіївка, вул.Українська, 3, ...</td>\n      <td>ЧЕРКАСЬКА ОБЛ., ЧЕРКАСЬКИЙ РАЙОН, СЕЛО РУСЬКА ...</td>\n      <td>0</td>\n      <td>0</td>\n      <td>1.165092e-02</td>\n    </tr>\n    <tr>\n      <th>1</th>\n      <td>Житомирська обл., Брусилівський р-н, смт Бруси...</td>\n      <td>ЖИТОМИРСЬКА ОБЛ., МІСТО ЖИТОМИР, БОГУНСЬКИЙ РА...</td>\n      <td>0</td>\n      <td>0</td>\n      <td>1.642710e-04</td>\n    </tr>\n    <tr>\n      <th>2</th>\n      <td>83010, Донецька обл., м.Донецьк, вул.Крамарчук...</td>\n      <td>ЛЬВІВСЬКА ОБЛ., МІСТО ЛЬВІВ, ЗАЛІЗНИЧНИЙ РАЙОН...</td>\n      <td>0</td>\n      <td>0</td>\n      <td>6.776909e-05</td>\n    </tr>\n    <tr>\n      <th>3</th>\n      <td>65016, Одеська обл., м.Одеса, вул.Костанді, 38</td>\n      <td>51254, ДНІПРОПЕТРОВСЬКА ОБЛ., НОВОМОСКОВСЬКИЙ ...</td>\n      <td>0</td>\n      <td>0</td>\n      <td>8.906026e-10</td>\n    </tr>\n    <tr>\n      <th>4</th>\n      <td>44801, Волинська обл., Турійський р-н, смт Тур...</td>\n      <td>РІВНЕНСЬКА ОБЛ., РОКИТНІВСЬКИЙ РАЙОН, СЕЛИЩЕ М...</td>\n      <td>0</td>\n      <td>0</td>\n      <td>6.860867e-09</td>\n    </tr>\n    <tr>\n      <th>...</th>\n      <td>...</td>\n      <td>...</td>\n      <td>...</td>\n      <td>...</td>\n      <td>...</td>\n    </tr>\n    <tr>\n      <th>315</th>\n      <td>київ, синя, 10</td>\n      <td>київ, червона, 5</td>\n      <td>0</td>\n      <td>0</td>\n      <td>1.151112e-15</td>\n    </tr>\n    <tr>\n      <th>316</th>\n      <td>маріуполь, синя, 10</td>\n      <td>маріуполь, червона, 5</td>\n      <td>0</td>\n      <td>0</td>\n      <td>1.787003e-15</td>\n    </tr>\n    <tr>\n      <th>317</th>\n      <td>львів, синя, 10</td>\n      <td>львів, червона, 5</td>\n      <td>0</td>\n      <td>0</td>\n      <td>1.254310e-15</td>\n    </tr>\n    <tr>\n      <th>318</th>\n      <td>луцьк, синя, 10</td>\n      <td>луцьк, червона, 5</td>\n      <td>0</td>\n      <td>0</td>\n      <td>1.237245e-15</td>\n    </tr>\n    <tr>\n      <th>319</th>\n      <td>донецьк, синя, 10</td>\n      <td>донецьк, червона, 5</td>\n      <td>0</td>\n      <td>0</td>\n      <td>1.371397e-15</td>\n    </tr>\n  </tbody>\n</table>\n<p>320 rows × 5 columns</p>\n</div>"
     },
     "execution_count": 7,
     "metadata": {},
     "output_type": "execute_result"
    }
   ],
   "source": [
    "test_df[['adress_1', 'adress_2', 'is_same', 'prediction', 'pred_proba']]"
   ],
   "metadata": {
    "collapsed": false,
    "ExecuteTime": {
     "end_time": "2024-02-25T22:17:01.468350Z",
     "start_time": "2024-02-25T22:17:01.457866Z"
    }
   },
   "id": "eab6c32564d8f9cb",
   "execution_count": 7
  },
  {
   "cell_type": "code",
   "outputs": [
    {
     "data": {
      "text/plain": "<Figure size 800x600 with 2 Axes>",
      "image/png": "[encoded data removed]"
     },
     "metadata": {},
     "output_type": "display_data"
    }
   ],
   "source": [
    "# Compute the confusion matrix\n",
    "cm = confusion_matrix(test_df['is_same'], test_df['prediction'])\n",
    "# Plotting using seaborn\n",
    "plt.figure(figsize=(8, 6))\n",
    "sns.heatmap(cm, annot=True, fmt='d', cmap='Blues', xticklabels=['Predicted 0', 'Predicted 1'], yticklabels=['Actual 0', 'Actual 1'])\n",
    "plt.ylabel('Actual')\n",
    "plt.xlabel('Predicted')\n",
    "plt.title('Confusion Matrix token set ratio with source')\n",
    "plt.show()"
   ],
   "metadata": {
    "collapsed": false,
    "ExecuteTime": {
     "end_time": "2024-02-25T22:17:03.323040Z",
     "start_time": "2024-02-25T22:17:03.142082Z"
    }
   },
   "id": "f88b3ab608f031fe",
   "execution_count": 8
  },
  {
   "cell_type": "code",
   "outputs": [
    {
     "data": {
      "text/plain": "                                              adress_1  \\\n152  КИЇВСЬКА обл., СЕЛО ПОГРЕБИ, вул.Кірова, буд 2...   \n153         32207, Село Яблунівка, ХМЕЛЬНИЦЬКА область   \n154  Житомирьска обл., Богунський р-н, м.Житомир, в...   \n171  Херсонська обл., м.Херсон, вул.Кулика, 114, кв.17   \n174       03148, м.Київ, просп.Курбаса Леся, 9, кв.345   \n179  Росiйська Федерацiя, Москва, вул.Новолісна, 17...   \n193  21021, Вінницька обл., м.Вінниця, вул.Келецька...   \n204  16341, ДНІПРОПЕТРОВСЬКА обл., ДНІПРОВСЬКИЙ р-н...   \n209         київська обл., м.КИЇВ, вул.ДРАГОМАНОВА, 24   \n228  ДНІПРОПЕТРОВСЬКА обл., м.КАМ’ЯНСЬКЕ, просп.50 ...   \n239  10020, ЖИТОМИРСЬКА обл., БОГУНСЬКИЙ р-н, м.ЖИТ...   \n249  20000, Черкаська, Христинівський, Христинівка,...   \n262  96300, Автономна Республіка Крим, Первомайськи...   \n264  16322, Чернігівська обл., Куликівський р-н, с....   \n269    43006, Волинська обл., м.Луцьк, вул.Селищна, 39   \n272  КИЇВСЬКА ОБЛ., БОРИСПІЛЬСЬКИЙ р-н, с.СТАРЕ ,БУ...   \n275  11126, Житомирська, Овруцький, Червонка, вул.Н...   \n299  42081, Сумська обл., Роменський р-н, с.Глинськ...   \n310                                          маріуполь   \n311                                               київ   \n312                                              луцьк   \n313                                              львів   \n314                                            донецьк   \n\n                                              adress_2  is_same    pred_proba  \\\n152  КИЇВСЬКА ОБЛ., БРОВАРСЬКИЙ РАЙОН, СЕЛО ПОГРЕБИ...        1  2.545270e-11   \n153  32207, ХМЕЛЬНИЦЬКА ОБЛ., ДЕРАЖНЯНСЬКИЙ Р-Н, СЕ...        1  2.899076e-04   \n154  10020, ВУЛ. МАКСЮТОВА, 18, КВ.3, М.ЖИТОМИР, БО...        1  1.737012e-03   \n171  Херсонська ОБЛ., м.Херсон, ВУЛИЦЯ Кулика, БУДИ...        1  1.368825e-13   \n174  03148, МІСТО київ, проспект Курбаса Леся, БУДИ...        1  4.782014e-14   \n179  Росiйська Федерацiя, Москва, ВУЛИЦЯ Новолісна ...        1  1.623253e-15   \n193  Вінницька ОБЛ., МІСТО Вінниця, ЗАЛІЗНИЧНИЙ РАЙ...        1  3.370158e-03   \n204  ДНІПРОПЕТРОВСЬКА ОБЛ., МІСТО КАМ’ЯНСЬКЕ, ДНІПР...        1  9.081964e-03   \n209  М.КИЇВ, ДАРНИЦЬКИЙ РАЙОН ВУЛИЦЯ ДРАГОМАНОВА БУ...        1  2.393725e-03   \n228  ДНІПРОПЕТРОВСЬКА ОБЛ., МІСТО КАМ’ЯНСЬКЕ, ДНІПР...        1  3.272641e-01   \n239  10020, ВУЛ. МАКСЮТОВА, 18, КВ.3, М.ЖИТОМИР, БО...        1  4.120604e-01   \n249  20000, ПРОВ. Крайній, 14, М. Христинівка,  Хри...        1  8.942173e-02   \n262  96300, Автономна Республіка Крим, Первомайськи...        1  2.741115e-13   \n264  16322, Чернігівська ОБЛ., Куликівський Р-Н, СЕ...        1  7.398489e-05   \n269  43006, ВУЛ. Селищна, 39, М.ЛУЦЬК, Волинська ОБ...        1  1.835927e-01   \n272  КИЇВСЬКА ОБЛ., БОРИСПІЛЬСЬКИЙ РАЙОН, СЕЛО СТАР...        1  1.616486e-01   \n275  11126, ВУЛ.Невідома, 1, С.Червонка, ОБЛ. Житом...        1  3.579554e-03   \n299  СУМСЬКА ОБЛ., с.Глинськ, ВУЛИЦЯ Адмірала Кулик...        1  2.193452e-04   \n310                                               київ        0  9.503201e-01   \n311                                          маріуполь        0  8.972478e-01   \n312                                              львів        0  8.922657e-01   \n313                                              луцьк        0  9.622219e-01   \n314                                             дніпро        0  9.329857e-01   \n\n     prediction  \n152           0  \n153           0  \n154           0  \n171           0  \n174           0  \n179           0  \n193           0  \n204           0  \n209           0  \n228           0  \n239           0  \n249           0  \n262           0  \n264           0  \n269           0  \n272           0  \n275           0  \n299           0  \n310           1  \n311           1  \n312           1  \n313           1  \n314           1  ",
      "text/html": "<div>\n<style scoped>\n    .dataframe tbody tr th:only-of-type {\n        vertical-align: middle;\n    }\n\n    .dataframe tbody tr th {\n        vertical-align: top;\n    }\n\n    .dataframe thead th {\n        text-align: right;\n    }\n</style>\n<table border=\"1\" class=\"dataframe\">\n  <thead>\n    <tr style=\"text-align: right;\">\n      <th></th>\n      <th>adress_1</th>\n      <th>adress_2</th>\n      <th>is_same</th>\n      <th>pred_proba</th>\n      <th>prediction</th>\n    </tr>\n  </thead>\n  <tbody>\n    <tr>\n      <th>152</th>\n      <td>КИЇВСЬКА обл., СЕЛО ПОГРЕБИ, вул.Кірова, буд 2...</td>\n      <td>КИЇВСЬКА ОБЛ., БРОВАРСЬКИЙ РАЙОН, СЕЛО ПОГРЕБИ...</td>\n      <td>1</td>\n      <td>2.545270e-11</td>\n      <td>0</td>\n    </tr>\n    <tr>\n      <th>153</th>\n      <td>32207, Село Яблунівка, ХМЕЛЬНИЦЬКА область</td>\n      <td>32207, ХМЕЛЬНИЦЬКА ОБЛ., ДЕРАЖНЯНСЬКИЙ Р-Н, СЕ...</td>\n      <td>1</td>\n      <td>2.899076e-04</td>\n      <td>0</td>\n    </tr>\n    <tr>\n      <th>154</th>\n      <td>Житомирьска обл., Богунський р-н, м.Житомир, в...</td>\n      <td>10020, ВУЛ. МАКСЮТОВА, 18, КВ.3, М.ЖИТОМИР, БО...</td>\n      <td>1</td>\n      <td>1.737012e-03</td>\n      <td>0</td>\n    </tr>\n    <tr>\n      <th>171</th>\n      <td>Херсонська обл., м.Херсон, вул.Кулика, 114, кв.17</td>\n      <td>Херсонська ОБЛ., м.Херсон, ВУЛИЦЯ Кулика, БУДИ...</td>\n      <td>1</td>\n      <td>1.368825e-13</td>\n      <td>0</td>\n    </tr>\n    <tr>\n      <th>174</th>\n      <td>03148, м.Київ, просп.Курбаса Леся, 9, кв.345</td>\n      <td>03148, МІСТО київ, проспект Курбаса Леся, БУДИ...</td>\n      <td>1</td>\n      <td>4.782014e-14</td>\n      <td>0</td>\n    </tr>\n    <tr>\n      <th>179</th>\n      <td>Росiйська Федерацiя, Москва, вул.Новолісна, 17...</td>\n      <td>Росiйська Федерацiя, Москва, ВУЛИЦЯ Новолісна ...</td>\n      <td>1</td>\n      <td>1.623253e-15</td>\n      <td>0</td>\n    </tr>\n    <tr>\n      <th>193</th>\n      <td>21021, Вінницька обл., м.Вінниця, вул.Келецька...</td>\n      <td>Вінницька ОБЛ., МІСТО Вінниця, ЗАЛІЗНИЧНИЙ РАЙ...</td>\n      <td>1</td>\n      <td>3.370158e-03</td>\n      <td>0</td>\n    </tr>\n    <tr>\n      <th>204</th>\n      <td>16341, ДНІПРОПЕТРОВСЬКА обл., ДНІПРОВСЬКИЙ р-н...</td>\n      <td>ДНІПРОПЕТРОВСЬКА ОБЛ., МІСТО КАМ’ЯНСЬКЕ, ДНІПР...</td>\n      <td>1</td>\n      <td>9.081964e-03</td>\n      <td>0</td>\n    </tr>\n    <tr>\n      <th>209</th>\n      <td>київська обл., м.КИЇВ, вул.ДРАГОМАНОВА, 24</td>\n      <td>М.КИЇВ, ДАРНИЦЬКИЙ РАЙОН ВУЛИЦЯ ДРАГОМАНОВА БУ...</td>\n      <td>1</td>\n      <td>2.393725e-03</td>\n      <td>0</td>\n    </tr>\n    <tr>\n      <th>228</th>\n      <td>ДНІПРОПЕТРОВСЬКА обл., м.КАМ’ЯНСЬКЕ, просп.50 ...</td>\n      <td>ДНІПРОПЕТРОВСЬКА ОБЛ., МІСТО КАМ’ЯНСЬКЕ, ДНІПР...</td>\n      <td>1</td>\n      <td>3.272641e-01</td>\n      <td>0</td>\n    </tr>\n    <tr>\n      <th>239</th>\n      <td>10020, ЖИТОМИРСЬКА обл., БОГУНСЬКИЙ р-н, м.ЖИТ...</td>\n      <td>10020, ВУЛ. МАКСЮТОВА, 18, КВ.3, М.ЖИТОМИР, БО...</td>\n      <td>1</td>\n      <td>4.120604e-01</td>\n      <td>0</td>\n    </tr>\n    <tr>\n      <th>249</th>\n      <td>20000, Черкаська, Христинівський, Христинівка,...</td>\n      <td>20000, ПРОВ. Крайній, 14, М. Христинівка,  Хри...</td>\n      <td>1</td>\n      <td>8.942173e-02</td>\n      <td>0</td>\n    </tr>\n    <tr>\n      <th>262</th>\n      <td>96300, Автономна Республіка Крим, Первомайськи...</td>\n      <td>96300, Автономна Республіка Крим, Первомайськи...</td>\n      <td>1</td>\n      <td>2.741115e-13</td>\n      <td>0</td>\n    </tr>\n    <tr>\n      <th>264</th>\n      <td>16322, Чернігівська обл., Куликівський р-н, с....</td>\n      <td>16322, Чернігівська ОБЛ., Куликівський Р-Н, СЕ...</td>\n      <td>1</td>\n      <td>7.398489e-05</td>\n      <td>0</td>\n    </tr>\n    <tr>\n      <th>269</th>\n      <td>43006, Волинська обл., м.Луцьк, вул.Селищна, 39</td>\n      <td>43006, ВУЛ. Селищна, 39, М.ЛУЦЬК, Волинська ОБ...</td>\n      <td>1</td>\n      <td>1.835927e-01</td>\n      <td>0</td>\n    </tr>\n    <tr>\n      <th>272</th>\n      <td>КИЇВСЬКА ОБЛ., БОРИСПІЛЬСЬКИЙ р-н, с.СТАРЕ ,БУ...</td>\n      <td>КИЇВСЬКА ОБЛ., БОРИСПІЛЬСЬКИЙ РАЙОН, СЕЛО СТАР...</td>\n      <td>1</td>\n      <td>1.616486e-01</td>\n      <td>0</td>\n    </tr>\n    <tr>\n      <th>275</th>\n      <td>11126, Житомирська, Овруцький, Червонка, вул.Н...</td>\n      <td>11126, ВУЛ.Невідома, 1, С.Червонка, ОБЛ. Житом...</td>\n      <td>1</td>\n      <td>3.579554e-03</td>\n      <td>0</td>\n    </tr>\n    <tr>\n      <th>299</th>\n      <td>42081, Сумська обл., Роменський р-н, с.Глинськ...</td>\n      <td>СУМСЬКА ОБЛ., с.Глинськ, ВУЛИЦЯ Адмірала Кулик...</td>\n      <td>1</td>\n      <td>2.193452e-04</td>\n      <td>0</td>\n    </tr>\n    <tr>\n      <th>310</th>\n      <td>маріуполь</td>\n      <td>київ</td>\n      <td>0</td>\n      <td>9.503201e-01</td>\n      <td>1</td>\n    </tr>\n    <tr>\n      <th>311</th>\n      <td>київ</td>\n      <td>маріуполь</td>\n      <td>0</td>\n      <td>8.972478e-01</td>\n      <td>1</td>\n    </tr>\n    <tr>\n      <th>312</th>\n      <td>луцьк</td>\n      <td>львів</td>\n      <td>0</td>\n      <td>8.922657e-01</td>\n      <td>1</td>\n    </tr>\n    <tr>\n      <th>313</th>\n      <td>львів</td>\n      <td>луцьк</td>\n      <td>0</td>\n      <td>9.622219e-01</td>\n      <td>1</td>\n    </tr>\n    <tr>\n      <th>314</th>\n      <td>донецьк</td>\n      <td>дніпро</td>\n      <td>0</td>\n      <td>9.329857e-01</td>\n      <td>1</td>\n    </tr>\n  </tbody>\n</table>\n</div>"
     },
     "execution_count": 9,
     "metadata": {},
     "output_type": "execute_result"
    }
   ],
   "source": [
    "test_df[test_df['is_same'] != test_df['prediction']]"
   ],
   "metadata": {
    "collapsed": false,
    "ExecuteTime": {
     "end_time": "2024-02-25T22:17:05.036373Z",
     "start_time": "2024-02-25T22:17:05.024305Z"
    }
   },
   "id": "18eedb91443cabc0",
   "execution_count": 9
  },
  {
   "cell_type": "markdown",
   "source": [
    "#### Analysis of incorrect predictions"
   ],
   "metadata": {
    "collapsed": false
   },
   "id": "81f9b5e75cf336ec"
  },
  {
   "cell_type": "code",
   "outputs": [
    {
     "data": {
      "text/plain": "                                              adress_1  \\\n152  КИЇВСЬКА обл., СЕЛО ПОГРЕБИ, вул.Кірова, буд 2...   \n153         32207, Село Яблунівка, ХМЕЛЬНИЦЬКА область   \n154  Житомирьска обл., Богунський р-н, м.Житомир, в...   \n171  Херсонська обл., м.Херсон, вул.Кулика, 114, кв.17   \n174       03148, м.Київ, просп.Курбаса Леся, 9, кв.345   \n179  Росiйська Федерацiя, Москва, вул.Новолісна, 17...   \n193  21021, Вінницька обл., м.Вінниця, вул.Келецька...   \n204  16341, ДНІПРОПЕТРОВСЬКА обл., ДНІПРОВСЬКИЙ р-н...   \n209         київська обл., м.КИЇВ, вул.ДРАГОМАНОВА, 24   \n228  ДНІПРОПЕТРОВСЬКА обл., м.КАМ’ЯНСЬКЕ, просп.50 ...   \n239  10020, ЖИТОМИРСЬКА обл., БОГУНСЬКИЙ р-н, м.ЖИТ...   \n249  20000, Черкаська, Христинівський, Христинівка,...   \n262  96300, Автономна Республіка Крим, Первомайськи...   \n264  16322, Чернігівська обл., Куликівський р-н, с....   \n269    43006, Волинська обл., м.Луцьк, вул.Селищна, 39   \n272  КИЇВСЬКА ОБЛ., БОРИСПІЛЬСЬКИЙ р-н, с.СТАРЕ ,БУ...   \n275  11126, Житомирська, Овруцький, Червонка, вул.Н...   \n299  42081, Сумська обл., Роменський р-н, с.Глинськ...   \n\n                                              adress_2  is_same    pred_proba  \\\n152  КИЇВСЬКА ОБЛ., БРОВАРСЬКИЙ РАЙОН, СЕЛО ПОГРЕБИ...        1  2.545270e-11   \n153  32207, ХМЕЛЬНИЦЬКА ОБЛ., ДЕРАЖНЯНСЬКИЙ Р-Н, СЕ...        1  2.899076e-04   \n154  10020, ВУЛ. МАКСЮТОВА, 18, КВ.3, М.ЖИТОМИР, БО...        1  1.737012e-03   \n171  Херсонська ОБЛ., м.Херсон, ВУЛИЦЯ Кулика, БУДИ...        1  1.368825e-13   \n174  03148, МІСТО київ, проспект Курбаса Леся, БУДИ...        1  4.782014e-14   \n179  Росiйська Федерацiя, Москва, ВУЛИЦЯ Новолісна ...        1  1.623253e-15   \n193  Вінницька ОБЛ., МІСТО Вінниця, ЗАЛІЗНИЧНИЙ РАЙ...        1  3.370158e-03   \n204  ДНІПРОПЕТРОВСЬКА ОБЛ., МІСТО КАМ’ЯНСЬКЕ, ДНІПР...        1  9.081964e-03   \n209  М.КИЇВ, ДАРНИЦЬКИЙ РАЙОН ВУЛИЦЯ ДРАГОМАНОВА БУ...        1  2.393725e-03   \n228  ДНІПРОПЕТРОВСЬКА ОБЛ., МІСТО КАМ’ЯНСЬКЕ, ДНІПР...        1  3.272641e-01   \n239  10020, ВУЛ. МАКСЮТОВА, 18, КВ.3, М.ЖИТОМИР, БО...        1  4.120604e-01   \n249  20000, ПРОВ. Крайній, 14, М. Христинівка,  Хри...        1  8.942173e-02   \n262  96300, Автономна Республіка Крим, Первомайськи...        1  2.741115e-13   \n264  16322, Чернігівська ОБЛ., Куликівський Р-Н, СЕ...        1  7.398489e-05   \n269  43006, ВУЛ. Селищна, 39, М.ЛУЦЬК, Волинська ОБ...        1  1.835927e-01   \n272  КИЇВСЬКА ОБЛ., БОРИСПІЛЬСЬКИЙ РАЙОН, СЕЛО СТАР...        1  1.616486e-01   \n275  11126, ВУЛ.Невідома, 1, С.Червонка, ОБЛ. Житом...        1  3.579554e-03   \n299  СУМСЬКА ОБЛ., с.Глинськ, ВУЛИЦЯ Адмірала Кулик...        1  2.193452e-04   \n\n     prediction  \n152           0  \n153           0  \n154           0  \n171           0  \n174           0  \n179           0  \n193           0  \n204           0  \n209           0  \n228           0  \n239           0  \n249           0  \n262           0  \n264           0  \n269           0  \n272           0  \n275           0  \n299           0  ",
      "text/html": "<div>\n<style scoped>\n    .dataframe tbody tr th:only-of-type {\n        vertical-align: middle;\n    }\n\n    .dataframe tbody tr th {\n        vertical-align: top;\n    }\n\n    .dataframe thead th {\n        text-align: right;\n    }\n</style>\n<table border=\"1\" class=\"dataframe\">\n  <thead>\n    <tr style=\"text-align: right;\">\n      <th></th>\n      <th>adress_1</th>\n      <th>adress_2</th>\n      <th>is_same</th>\n      <th>pred_proba</th>\n      <th>prediction</th>\n    </tr>\n  </thead>\n  <tbody>\n    <tr>\n      <th>152</th>\n      <td>КИЇВСЬКА обл., СЕЛО ПОГРЕБИ, вул.Кірова, буд 2...</td>\n      <td>КИЇВСЬКА ОБЛ., БРОВАРСЬКИЙ РАЙОН, СЕЛО ПОГРЕБИ...</td>\n      <td>1</td>\n      <td>2.545270e-11</td>\n      <td>0</td>\n    </tr>\n    <tr>\n      <th>153</th>\n      <td>32207, Село Яблунівка, ХМЕЛЬНИЦЬКА область</td>\n      <td>32207, ХМЕЛЬНИЦЬКА ОБЛ., ДЕРАЖНЯНСЬКИЙ Р-Н, СЕ...</td>\n      <td>1</td>\n      <td>2.899076e-04</td>\n      <td>0</td>\n    </tr>\n    <tr>\n      <th>154</th>\n      <td>Житомирьска обл., Богунський р-н, м.Житомир, в...</td>\n      <td>10020, ВУЛ. МАКСЮТОВА, 18, КВ.3, М.ЖИТОМИР, БО...</td>\n      <td>1</td>\n      <td>1.737012e-03</td>\n      <td>0</td>\n    </tr>\n    <tr>\n      <th>171</th>\n      <td>Херсонська обл., м.Херсон, вул.Кулика, 114, кв.17</td>\n      <td>Херсонська ОБЛ., м.Херсон, ВУЛИЦЯ Кулика, БУДИ...</td>\n      <td>1</td>\n      <td>1.368825e-13</td>\n      <td>0</td>\n    </tr>\n    <tr>\n      <th>174</th>\n      <td>03148, м.Київ, просп.Курбаса Леся, 9, кв.345</td>\n      <td>03148, МІСТО київ, проспект Курбаса Леся, БУДИ...</td>\n      <td>1</td>\n      <td>4.782014e-14</td>\n      <td>0</td>\n    </tr>\n    <tr>\n      <th>179</th>\n      <td>Росiйська Федерацiя, Москва, вул.Новолісна, 17...</td>\n      <td>Росiйська Федерацiя, Москва, ВУЛИЦЯ Новолісна ...</td>\n      <td>1</td>\n      <td>1.623253e-15</td>\n      <td>0</td>\n    </tr>\n    <tr>\n      <th>193</th>\n      <td>21021, Вінницька обл., м.Вінниця, вул.Келецька...</td>\n      <td>Вінницька ОБЛ., МІСТО Вінниця, ЗАЛІЗНИЧНИЙ РАЙ...</td>\n      <td>1</td>\n      <td>3.370158e-03</td>\n      <td>0</td>\n    </tr>\n    <tr>\n      <th>204</th>\n      <td>16341, ДНІПРОПЕТРОВСЬКА обл., ДНІПРОВСЬКИЙ р-н...</td>\n      <td>ДНІПРОПЕТРОВСЬКА ОБЛ., МІСТО КАМ’ЯНСЬКЕ, ДНІПР...</td>\n      <td>1</td>\n      <td>9.081964e-03</td>\n      <td>0</td>\n    </tr>\n    <tr>\n      <th>209</th>\n      <td>київська обл., м.КИЇВ, вул.ДРАГОМАНОВА, 24</td>\n      <td>М.КИЇВ, ДАРНИЦЬКИЙ РАЙОН ВУЛИЦЯ ДРАГОМАНОВА БУ...</td>\n      <td>1</td>\n      <td>2.393725e-03</td>\n      <td>0</td>\n    </tr>\n    <tr>\n      <th>228</th>\n      <td>ДНІПРОПЕТРОВСЬКА обл., м.КАМ’ЯНСЬКЕ, просп.50 ...</td>\n      <td>ДНІПРОПЕТРОВСЬКА ОБЛ., МІСТО КАМ’ЯНСЬКЕ, ДНІПР...</td>\n      <td>1</td>\n      <td>3.272641e-01</td>\n      <td>0</td>\n    </tr>\n    <tr>\n      <th>239</th>\n      <td>10020, ЖИТОМИРСЬКА обл., БОГУНСЬКИЙ р-н, м.ЖИТ...</td>\n      <td>10020, ВУЛ. МАКСЮТОВА, 18, КВ.3, М.ЖИТОМИР, БО...</td>\n      <td>1</td>\n      <td>4.120604e-01</td>\n      <td>0</td>\n    </tr>\n    <tr>\n      <th>249</th>\n      <td>20000, Черкаська, Христинівський, Христинівка,...</td>\n      <td>20000, ПРОВ. Крайній, 14, М. Христинівка,  Хри...</td>\n      <td>1</td>\n      <td>8.942173e-02</td>\n      <td>0</td>\n    </tr>\n    <tr>\n      <th>262</th>\n      <td>96300, Автономна Республіка Крим, Первомайськи...</td>\n      <td>96300, Автономна Республіка Крим, Первомайськи...</td>\n      <td>1</td>\n      <td>2.741115e-13</td>\n      <td>0</td>\n    </tr>\n    <tr>\n      <th>264</th>\n      <td>16322, Чернігівська обл., Куликівський р-н, с....</td>\n      <td>16322, Чернігівська ОБЛ., Куликівський Р-Н, СЕ...</td>\n      <td>1</td>\n      <td>7.398489e-05</td>\n      <td>0</td>\n    </tr>\n    <tr>\n      <th>269</th>\n      <td>43006, Волинська обл., м.Луцьк, вул.Селищна, 39</td>\n      <td>43006, ВУЛ. Селищна, 39, М.ЛУЦЬК, Волинська ОБ...</td>\n      <td>1</td>\n      <td>1.835927e-01</td>\n      <td>0</td>\n    </tr>\n    <tr>\n      <th>272</th>\n      <td>КИЇВСЬКА ОБЛ., БОРИСПІЛЬСЬКИЙ р-н, с.СТАРЕ ,БУ...</td>\n      <td>КИЇВСЬКА ОБЛ., БОРИСПІЛЬСЬКИЙ РАЙОН, СЕЛО СТАР...</td>\n      <td>1</td>\n      <td>1.616486e-01</td>\n      <td>0</td>\n    </tr>\n    <tr>\n      <th>275</th>\n      <td>11126, Житомирська, Овруцький, Червонка, вул.Н...</td>\n      <td>11126, ВУЛ.Невідома, 1, С.Червонка, ОБЛ. Житом...</td>\n      <td>1</td>\n      <td>3.579554e-03</td>\n      <td>0</td>\n    </tr>\n    <tr>\n      <th>299</th>\n      <td>42081, Сумська обл., Роменський р-н, с.Глинськ...</td>\n      <td>СУМСЬКА ОБЛ., с.Глинськ, ВУЛИЦЯ Адмірала Кулик...</td>\n      <td>1</td>\n      <td>2.193452e-04</td>\n      <td>0</td>\n    </tr>\n  </tbody>\n</table>\n</div>"
     },
     "execution_count": 10,
     "metadata": {},
     "output_type": "execute_result"
    }
   ],
   "source": [
    "test_df[(test_df['is_same'] == 1) & (test_df['prediction'] == 0)]"
   ],
   "metadata": {
    "collapsed": false,
    "ExecuteTime": {
     "end_time": "2024-02-25T22:17:08.695559Z",
     "start_time": "2024-02-25T22:17:08.687366Z"
    }
   },
   "id": "92ce93bdc6fe58dc",
   "execution_count": 10
  },
  {
   "cell_type": "code",
   "outputs": [
    {
     "data": {
      "text/plain": "      adress_1   adress_2  is_same  pred_proba  prediction\n310  маріуполь       київ        0    0.950320           1\n311       київ  маріуполь        0    0.897248           1\n312      луцьк      львів        0    0.892266           1\n313      львів      луцьк        0    0.962222           1\n314    донецьк     дніпро        0    0.932986           1",
      "text/html": "<div>\n<style scoped>\n    .dataframe tbody tr th:only-of-type {\n        vertical-align: middle;\n    }\n\n    .dataframe tbody tr th {\n        vertical-align: top;\n    }\n\n    .dataframe thead th {\n        text-align: right;\n    }\n</style>\n<table border=\"1\" class=\"dataframe\">\n  <thead>\n    <tr style=\"text-align: right;\">\n      <th></th>\n      <th>adress_1</th>\n      <th>adress_2</th>\n      <th>is_same</th>\n      <th>pred_proba</th>\n      <th>prediction</th>\n    </tr>\n  </thead>\n  <tbody>\n    <tr>\n      <th>310</th>\n      <td>маріуполь</td>\n      <td>київ</td>\n      <td>0</td>\n      <td>0.950320</td>\n      <td>1</td>\n    </tr>\n    <tr>\n      <th>311</th>\n      <td>київ</td>\n      <td>маріуполь</td>\n      <td>0</td>\n      <td>0.897248</td>\n      <td>1</td>\n    </tr>\n    <tr>\n      <th>312</th>\n      <td>луцьк</td>\n      <td>львів</td>\n      <td>0</td>\n      <td>0.892266</td>\n      <td>1</td>\n    </tr>\n    <tr>\n      <th>313</th>\n      <td>львів</td>\n      <td>луцьк</td>\n      <td>0</td>\n      <td>0.962222</td>\n      <td>1</td>\n    </tr>\n    <tr>\n      <th>314</th>\n      <td>донецьк</td>\n      <td>дніпро</td>\n      <td>0</td>\n      <td>0.932986</td>\n      <td>1</td>\n    </tr>\n  </tbody>\n</table>\n</div>"
     },
     "execution_count": 11,
     "metadata": {},
     "output_type": "execute_result"
    }
   ],
   "source": [
    "test_df[(test_df['is_same'] == 0) & (test_df['prediction'] == 1)]"
   ],
   "metadata": {
    "collapsed": false,
    "ExecuteTime": {
     "end_time": "2024-02-25T22:17:20.451364Z",
     "start_time": "2024-02-25T22:17:20.443343Z"
    }
   },
   "id": "434c929306b5c045",
   "execution_count": 11
  },
  {
   "cell_type": "markdown",
   "source": [
    "## Issues in Address Classification\n",
    "\n",
    "### 1) Wrong Label\n",
    "\n",
    "**Example:**\n",
    "`Херсонська обл., м.Херсон, вул.Кулика, 114, кв.17`\n",
    "*Incorrectly Matched To:*\n",
    "`Херсонська ОБЛ., м.Херсон, ВУЛИЦЯ Кулика, БУДИНОК 114`\n",
    "**Issue:** Apartment number is not specified.\n",
    "\n",
    "**TODO:** Ensure apartment numbers are captured correctly.\n",
    "\n",
    "### 2) Wrong Classification (False Negative)\n",
    "\n",
    "**Example:**\n",
    "`10020, ЖИТОМИРСЬКА обл., БОГУНСЬКИЙ р-н, м.ЖИТОМИР, вул.МАКСЮТОВА, 18, 3`\n",
    "*Incorrectly Matched To:*\n",
    "`10020, ВУЛ. МАКСЮТОВА, 18, КВ.3, М.ЖИТОМИР, БОГУНСЬКИЙ РАЙОН, ЖИТОМИРСЬКА ОБЛАСТЬ`\n",
    "**TODO:** Expand the source of training templates based on wrong classification examples.\n",
    "\n",
    "### 3) Wrong Classification (False Positive)\n",
    "\n",
    "**Example:**\n",
    "`львів`\n",
    "*Incorrectly Matched To:*\n",
    "`луцьк`\n",
    "**TODO:** Add training examples for short addresses like only city or street.\n"
   ],
   "metadata": {
    "collapsed": false
   },
   "id": "c6a56605db2b3360"
  }
 ],
 "metadata": {
  "kernelspec": {
   "display_name": "Python 3",
   "language": "python",
   "name": "python3"
  },
  "language_info": {
   "codemirror_mode": {
    "name": "ipython",
    "version": 2
   },
   "file_extension": ".py",
   "mimetype": "text/x-python",
   "name": "python",
   "nbconvert_exporter": "python",
   "pygments_lexer": "ipython2",
   "version": "2.7.6"
  }
 },
 "nbformat": 4,
 "nbformat_minor": 5
}
